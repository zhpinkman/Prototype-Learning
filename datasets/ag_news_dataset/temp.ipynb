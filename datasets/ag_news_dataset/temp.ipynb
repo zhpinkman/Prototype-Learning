{
 "cells": [
  {
   "cell_type": "code",
   "execution_count": 1,
   "metadata": {},
   "outputs": [],
   "source": [
    "import pandas as pd"
   ]
  },
  {
   "cell_type": "code",
   "execution_count": 2,
   "metadata": {},
   "outputs": [],
   "source": [
    "df_textfooler = pd.read_csv(\n",
    "    \"log_ag_news_textfooler__scratch_darshan_prototype-learning_robust-prototype-learning_ProtoCNN_src_checkpoints_ag_news_ag_news_epoch_0=00-val_loss_0=06478-val_acc_0=08260ckpt.csv\"\n",
    ")\n",
    "df_textbugger = pd.read_csv(\n",
    "    \"log_ag_news_textbugger__scratch_darshan_prototype-learning_robust-prototype-learning_ProtoCNN_src_checkpoints_ag_news_ag_news_epoch_0=00-val_loss_0=06478-val_acc_0=08260ckpt.csv\"\n",
    ")\n",
    "\n",
    "\n",
    "df_textfooler = df_textfooler[df_textfooler[\"result_type\"] == \"Successful\"]\n",
    "df_textbugger = df_textbugger[df_textbugger[\"result_type\"] == \"Successful\"]"
   ]
  },
  {
   "cell_type": "code",
   "execution_count": 3,
   "metadata": {},
   "outputs": [],
   "source": [
    "df_textfooler_original_text = df_textfooler[\"original_text\"].tolist()\n",
    "df_textfooler_perturbed_text = df_textfooler[\"perturbed_text\"].tolist()\n",
    "df_textfooler_label = df_textfooler[\"ground_truth_output\"].tolist()\n",
    "\n",
    "df_textbugger_original_text = df_textbugger[\"original_text\"].tolist()\n",
    "df_textbugger_perturbed_text = df_textbugger[\"perturbed_text\"].tolist()\n",
    "df_textbugger_label = df_textbugger[\"ground_truth_output\"].tolist()"
   ]
  },
  {
   "cell_type": "code",
   "execution_count": 4,
   "metadata": {},
   "outputs": [],
   "source": [
    "pd.DataFrame(\n",
    "    {\n",
    "        \"text\": df_textfooler_original_text,\n",
    "        \"label\": df_textfooler_label,\n",
    "    }\n",
    ").to_csv(\"test_textfooler_protocnn.csv\", index=False)\n",
    "\n",
    "pd.DataFrame(\n",
    "    {\n",
    "        \"text\": df_textfooler_perturbed_text,\n",
    "        \"label\": df_textfooler_label,\n",
    "    }\n",
    ").to_csv(\"adv_textfooler_protocnn.csv\", index=False)\n",
    "\n",
    "pd.DataFrame(\n",
    "    {\"text\": df_textbugger_original_text, \"label\": df_textbugger_label}\n",
    ").to_csv(\"test_textbugger_protocnn.csv\", index=False)\n",
    "\n",
    "pd.DataFrame(\n",
    "    {\"text\": df_textbugger_perturbed_text, \"label\": df_textbugger_label}\n",
    ").to_csv(\"adv_textbugger_protocnn.csv\", index=False)"
   ]
  },
  {
   "cell_type": "code",
   "execution_count": null,
   "metadata": {},
   "outputs": [],
   "source": []
  }
 ],
 "metadata": {
  "kernelspec": {
   "display_name": "base",
   "language": "python",
   "name": "python3"
  },
  "language_info": {
   "codemirror_mode": {
    "name": "ipython",
    "version": 3
   },
   "file_extension": ".py",
   "mimetype": "text/x-python",
   "name": "python",
   "nbconvert_exporter": "python",
   "pygments_lexer": "ipython3",
   "version": "3.9.13"
  },
  "orig_nbformat": 4
 },
 "nbformat": 4,
 "nbformat_minor": 2
}
