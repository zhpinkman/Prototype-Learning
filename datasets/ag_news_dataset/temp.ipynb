{
 "cells": [
  {
   "cell_type": "code",
   "execution_count": 2,
   "metadata": {},
   "outputs": [],
   "source": [
    "import pandas as pd\n",
    "\n",
    "df = pd.read_csv(\"adv_paraphrased.csv\")\n",
    "labels = df[\"label\"].values\n",
    "original_text = df[\"original_text\"].values\n",
    "perturbed_text = df[\"perturbed_text\"].values\n",
    "\n",
    "pd.DataFrame({\"text\": original_text, \"label\": labels}).to_csv(\n",
    "    \"test_paraphrased.csv\", index=False\n",
    ")\n",
    "\n",
    "pd.DataFrame({\"text\": perturbed_text, \"label\": labels}).to_csv(\n",
    "    \"adv_paraphrased.csv\", index=False\n",
    ")"
   ]
  }
 ],
 "metadata": {
  "kernelspec": {
   "display_name": "base",
   "language": "python",
   "name": "python3"
  },
  "language_info": {
   "codemirror_mode": {
    "name": "ipython",
    "version": 3
   },
   "file_extension": ".py",
   "mimetype": "text/x-python",
   "name": "python",
   "nbconvert_exporter": "python",
   "pygments_lexer": "ipython3",
   "version": "3.9.13"
  },
  "orig_nbformat": 4
 },
 "nbformat": 4,
 "nbformat_minor": 2
}
