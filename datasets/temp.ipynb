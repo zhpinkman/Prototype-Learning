{
 "cells": [
  {
   "cell_type": "code",
   "execution_count": 6,
   "metadata": {},
   "outputs": [],
   "source": [
    "import pandas as pd\n",
    "import os"
   ]
  },
  {
   "cell_type": "code",
   "execution_count": 8,
   "metadata": {},
   "outputs": [
    {
     "name": "stdout",
     "output_type": "stream",
     "text": [
      "imdb\n",
      "10\n",
      "adv_paraphrased.csv\n",
      "size:  (300, 2)\n",
      "test_textfooler.csv\n",
      "size:  (2190, 2)\n",
      "test_textbugger.csv\n",
      "size:  (1926, 2)\n",
      "adv_textfooler.csv\n",
      "size:  (2190, 2)\n",
      "adv_textbugger.csv\n",
      "size:  (1926, 2)\n",
      "test_paraphrased.csv\n",
      "size:  (300, 2)\n",
      "test_textfooler_protocnn.csv\n",
      "size:  (800, 2)\n",
      "adv_textfooler_protocnn.csv\n",
      "size:  (800, 2)\n",
      "test_textbugger_protocnn.csv\n",
      "size:  (800, 2)\n",
      "adv_textbugger_protocnn.csv\n",
      "size:  (800, 2)\n",
      "------------------\n",
      "ag_news\n",
      "10\n",
      "adv_paraphrased.csv\n",
      "size:  (300, 2)\n",
      "test_textfooler.csv\n",
      "size:  (1893, 2)\n",
      "test_textbugger.csv\n",
      "size:  (1383, 2)\n",
      "adv_textfooler.csv\n",
      "size:  (1893, 2)\n",
      "adv_textbugger.csv\n",
      "size:  (1383, 2)\n",
      "test_paraphrased.csv\n",
      "size:  (300, 2)\n",
      "test_textfooler_protocnn.csv\n",
      "size:  (800, 2)\n",
      "adv_textfooler_protocnn.csv\n",
      "size:  (800, 2)\n",
      "test_textbugger_protocnn.csv\n",
      "size:  (800, 2)\n",
      "adv_textbugger_protocnn.csv\n",
      "size:  (800, 2)\n",
      "------------------\n",
      "dbpedia\n",
      "10\n",
      "adv_paraphrased.csv\n",
      "size:  (300, 2)\n",
      "test_textfooler.csv\n",
      "size:  (1836, 2)\n",
      "test_textbugger.csv\n",
      "size:  (1281, 2)\n",
      "adv_textfooler.csv\n",
      "size:  (1836, 2)\n",
      "adv_textbugger.csv\n",
      "size:  (1281, 2)\n",
      "test_paraphrased.csv\n",
      "size:  (300, 2)\n",
      "test_textfooler_protocnn.csv\n",
      "size:  (800, 2)\n",
      "adv_textfooler_protocnn.csv\n",
      "size:  (800, 2)\n",
      "test_textbugger_protocnn.csv\n",
      "size:  (800, 2)\n",
      "adv_textbugger_protocnn.csv\n",
      "size:  (800, 2)\n",
      "------------------\n"
     ]
    }
   ],
   "source": [
    "for dataset in [\"imdb\", \"ag_news\", \"dbpedia\"]:\n",
    "    print(dataset)\n",
    "    files = [\n",
    "        file\n",
    "        for file in os.listdir(f\"{dataset}_dataset\")\n",
    "        if (file.startswith(\"test_\") or file.startswith(\"adv_\"))\n",
    "    ]\n",
    "    print(len(files))\n",
    "    for file in files:\n",
    "        df = pd.read_csv(os.path.join(f\"{dataset}_dataset\", file))\n",
    "        print(file)\n",
    "        print(\"size: \", df.shape)\n",
    "    print(\"------------------\")"
   ]
  },
  {
   "cell_type": "code",
   "execution_count": null,
   "metadata": {},
   "outputs": [],
   "source": []
  }
 ],
 "metadata": {
  "kernelspec": {
   "display_name": "adv_attack",
   "language": "python",
   "name": "python3"
  },
  "language_info": {
   "codemirror_mode": {
    "name": "ipython",
    "version": 3
   },
   "file_extension": ".py",
   "mimetype": "text/x-python",
   "name": "python",
   "nbconvert_exporter": "python",
   "pygments_lexer": "ipython3",
   "version": "3.9.13"
  },
  "orig_nbformat": 4
 },
 "nbformat": 4,
 "nbformat_minor": 2
}
