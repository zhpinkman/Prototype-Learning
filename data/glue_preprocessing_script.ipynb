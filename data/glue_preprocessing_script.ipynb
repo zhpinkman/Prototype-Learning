{
 "cells": [
  {
   "cell_type": "code",
   "execution_count": 2,
   "metadata": {},
   "outputs": [],
   "source": [
    "import datasets\n",
    "from IPython import embed\n",
    "import pandas as pd\n",
    "from datasets import load_dataset, load_dataset_builder\n",
    "import os\n",
    "\n",
    "\n",
    "configurations = [\"cola\", \"mnli\", \"mrpc\", \"qnli\", \"qqp\", \"rte\", \"sst2\", \"stsb\", \"wnli\"]"
   ]
  },
  {
   "cell_type": "code",
   "execution_count": 3,
   "metadata": {},
   "outputs": [
    {
     "name": "stdout",
     "output_type": "stream",
     "text": [
      "processing cola ...\n"
     ]
    },
    {
     "name": "stderr",
     "output_type": "stream",
     "text": [
      "Found cached dataset glue (/nas/home/souratih/.cache/huggingface/datasets/glue/cola/1.0.0/dacbe3125aa31d7f70367a07a8a9e72a5a0bfeb5fc42e75c9db75b96da6053ad)\n"
     ]
    },
    {
     "data": {
      "application/vnd.jupyter.widget-view+json": {
       "model_id": "aeb7a2c3ba6245dd8acf9cde76f8bee2",
       "version_major": 2,
       "version_minor": 0
      },
      "text/plain": [
       "  0%|          | 0/3 [00:00<?, ?it/s]"
      ]
     },
     "metadata": {},
     "output_type": "display_data"
    },
    {
     "name": "stdout",
     "output_type": "stream",
     "text": [
      "done! -----------------\n"
     ]
    }
   ],
   "source": [
    "config = \"cola\"\n",
    "print('processing', config, '...')\n",
    "# store dataset and its information in its respective directory with splits train, val, test\n",
    "dataset = datasets.load_dataset(\"glue\", config)\n",
    "train_df = pd.DataFrame(dataset[\"train\"])\n",
    "val_df = pd.DataFrame(dataset[\"validation\"])\n",
    "test_df = pd.DataFrame(dataset[\"test\"])\n",
    "\n",
    "info = load_dataset_builder(\"glue\", config).info\n",
    "\n",
    "\n",
    "if not os.path.exists(f\"glue_data/{config}\"):\n",
    "    os.makedirs(f\"glue_data/{config}\")\n",
    "\n",
    "train_df.to_csv(f\"glue_data/{config}/train.csv\", index=False)\n",
    "val_df.to_csv(f\"glue_data/{config}/val.csv\", index=False)\n",
    "test_df.to_csv(f\"glue_data/{config}/test.csv\", index=False)\n",
    "with open(f\"glue_data/{config}/info.json\", \"wb\") as f:\n",
    "    info._dump_info(f)\n",
    "    \n",
    "\n",
    "print('done! -----------------')"
   ]
  },
  {
   "cell_type": "code",
   "execution_count": 12,
   "metadata": {},
   "outputs": [
    {
     "name": "stdout",
     "output_type": "stream",
     "text": [
      "processing mnli ...\n"
     ]
    },
    {
     "name": "stderr",
     "output_type": "stream",
     "text": [
      "Found cached dataset glue (/nas/home/souratih/.cache/huggingface/datasets/glue/mnli/1.0.0/dacbe3125aa31d7f70367a07a8a9e72a5a0bfeb5fc42e75c9db75b96da6053ad)\n"
     ]
    },
    {
     "data": {
      "application/vnd.jupyter.widget-view+json": {
       "model_id": "1eba71903def489fbaaf1e5660e3e1a1",
       "version_major": 2,
       "version_minor": 0
      },
      "text/plain": [
       "  0%|          | 0/5 [00:00<?, ?it/s]"
      ]
     },
     "metadata": {},
     "output_type": "display_data"
    },
    {
     "name": "stdout",
     "output_type": "stream",
     "text": [
      "done! -----------------\n"
     ]
    }
   ],
   "source": [
    "config = \"mnli\"\n",
    "print('processing', config, '...')\n",
    "# store dataset and its information in its respective directory with splits train, val, test\n",
    "dataset = datasets.load_dataset(\"glue\", config)\n",
    "train_df = pd.DataFrame(dataset[\"train\"])\n",
    "val_matched_df = pd.DataFrame(dataset[\"validation_matched\"])\n",
    "val_mismatched = pd.DataFrame(dataset[\"validation_mismatched\"])\n",
    "test_matched_df = pd.DataFrame(dataset[\"test_matched\"])\n",
    "test_mismatched = pd.DataFrame(dataset[\"test_mismatched\"])\n",
    "\n",
    "val_df = pd.concat([val_matched_df, val_mismatched], ignore_index=True)\n",
    "test_df = pd.concat([test_matched_df, test_mismatched], ignore_index=True)\n",
    "\n",
    "# change the name of the column \"premise\" to \"sentence1\" and \"hypothesis\" to \"sentence2\"\n",
    "train_df.rename(columns={\"premise\": \"sentence1\", \"hypothesis\": \"sentence2\"}, inplace=True)\n",
    "val_df.rename(columns={\"premise\": \"sentence1\", \"hypothesis\": \"sentence2\"}, inplace=True)\n",
    "test_df.rename(columns={\"premise\": \"sentence1\", \"hypothesis\": \"sentence2\"}, inplace=True)\n",
    "\n",
    "info = load_dataset_builder(\"glue\", config).info\n",
    "\n",
    "\n",
    "if not os.path.exists(f\"glue_data/{config}\"):\n",
    "    os.makedirs(f\"glue_data/{config}\")\n",
    "\n",
    "train_df.to_csv(f\"glue_data/{config}/train.csv\", index=False)\n",
    "val_df.to_csv(f\"glue_data/{config}/val.csv\", index=False)\n",
    "test_df.to_csv(f\"glue_data/{config}/test.csv\", index=False)\n",
    "with open(f\"glue_data/{config}/info.json\", \"wb\") as f:\n",
    "    info._dump_info(f)\n",
    "    \n",
    "\n",
    "print('done! -----------------')"
   ]
  },
  {
   "cell_type": "code",
   "execution_count": 14,
   "metadata": {},
   "outputs": [
    {
     "name": "stdout",
     "output_type": "stream",
     "text": [
      "processing mrpc ...\n"
     ]
    },
    {
     "name": "stderr",
     "output_type": "stream",
     "text": [
      "Found cached dataset glue (/nas/home/souratih/.cache/huggingface/datasets/glue/mrpc/1.0.0/dacbe3125aa31d7f70367a07a8a9e72a5a0bfeb5fc42e75c9db75b96da6053ad)\n"
     ]
    },
    {
     "data": {
      "application/vnd.jupyter.widget-view+json": {
       "model_id": "bc78339d7b5b4327963cc5b814ffa486",
       "version_major": 2,
       "version_minor": 0
      },
      "text/plain": [
       "  0%|          | 0/3 [00:00<?, ?it/s]"
      ]
     },
     "metadata": {},
     "output_type": "display_data"
    },
    {
     "name": "stdout",
     "output_type": "stream",
     "text": [
      "DatasetDict({\n",
      "    train: Dataset({\n",
      "        features: ['sentence1', 'sentence2', 'label', 'idx'],\n",
      "        num_rows: 3668\n",
      "    })\n",
      "    validation: Dataset({\n",
      "        features: ['sentence1', 'sentence2', 'label', 'idx'],\n",
      "        num_rows: 408\n",
      "    })\n",
      "    test: Dataset({\n",
      "        features: ['sentence1', 'sentence2', 'label', 'idx'],\n",
      "        num_rows: 1725\n",
      "    })\n",
      "})\n",
      "done! -----------------\n"
     ]
    }
   ],
   "source": [
    "config = \"mrpc\"\n",
    "print('processing', config, '...')\n",
    "# store dataset and its information in its respective directory with splits train, val, test\n",
    "dataset = datasets.load_dataset(\"glue\", config)\n",
    "print(dataset)\n",
    "train_df = pd.DataFrame(dataset[\"train\"])\n",
    "val_df = pd.DataFrame(dataset[\"validation\"])\n",
    "test_df = pd.DataFrame(dataset[\"test\"])\n",
    "\n",
    "\n",
    "info = load_dataset_builder(\"glue\", config).info\n",
    "\n",
    "\n",
    "if not os.path.exists(f\"glue_data/{config}\"):\n",
    "    os.makedirs(f\"glue_data/{config}\")\n",
    "\n",
    "train_df.to_csv(f\"glue_data/{config}/train.csv\", index=False)\n",
    "val_df.to_csv(f\"glue_data/{config}/val.csv\", index=False)\n",
    "test_df.to_csv(f\"glue_data/{config}/test.csv\", index=False)\n",
    "with open(f\"glue_data/{config}/info.json\", \"wb\") as f:\n",
    "    info._dump_info(f)\n",
    "    \n",
    "\n",
    "print('done! -----------------')"
   ]
  },
  {
   "cell_type": "code",
   "execution_count": 16,
   "metadata": {},
   "outputs": [
    {
     "name": "stdout",
     "output_type": "stream",
     "text": [
      "processing qnli ...\n"
     ]
    },
    {
     "name": "stderr",
     "output_type": "stream",
     "text": [
      "Found cached dataset glue (/nas/home/souratih/.cache/huggingface/datasets/glue/qnli/1.0.0/dacbe3125aa31d7f70367a07a8a9e72a5a0bfeb5fc42e75c9db75b96da6053ad)\n"
     ]
    },
    {
     "data": {
      "application/vnd.jupyter.widget-view+json": {
       "model_id": "12c853aa1a0f4c43a794b195519ff2ec",
       "version_major": 2,
       "version_minor": 0
      },
      "text/plain": [
       "  0%|          | 0/3 [00:00<?, ?it/s]"
      ]
     },
     "metadata": {},
     "output_type": "display_data"
    },
    {
     "name": "stdout",
     "output_type": "stream",
     "text": [
      "DatasetDict({\n",
      "    train: Dataset({\n",
      "        features: ['question', 'sentence', 'label', 'idx'],\n",
      "        num_rows: 104743\n",
      "    })\n",
      "    validation: Dataset({\n",
      "        features: ['question', 'sentence', 'label', 'idx'],\n",
      "        num_rows: 5463\n",
      "    })\n",
      "    test: Dataset({\n",
      "        features: ['question', 'sentence', 'label', 'idx'],\n",
      "        num_rows: 5463\n",
      "    })\n",
      "})\n",
      "done! -----------------\n"
     ]
    }
   ],
   "source": [
    "config = \"qnli\"\n",
    "print('processing', config, '...')\n",
    "# store dataset and its information in its respective directory with splits train, val, test\n",
    "dataset = datasets.load_dataset(\"glue\", config)\n",
    "print(dataset)\n",
    "train_df = pd.DataFrame(dataset[\"train\"])\n",
    "val_df = pd.DataFrame(dataset[\"validation\"])\n",
    "test_df = pd.DataFrame(dataset[\"test\"])\n",
    "\n",
    "train_df.rename(columns={\"question\": \"sentence1\", \"sentence\": \"sentence2\"}, inplace=True)\n",
    "val_df.rename(columns={\"question\": \"sentence1\", \"sentence\": \"sentence2\"}, inplace=True)\n",
    "test_df.rename(columns={\"question\": \"sentence1\", \"sentence\": \"sentence2\"}, inplace=True)\n",
    "\n",
    "info = load_dataset_builder(\"glue\", config).info\n",
    "\n",
    "\n",
    "if not os.path.exists(f\"glue_data/{config}\"):\n",
    "    os.makedirs(f\"glue_data/{config}\")\n",
    "\n",
    "train_df.to_csv(f\"glue_data/{config}/train.csv\", index=False)\n",
    "val_df.to_csv(f\"glue_data/{config}/val.csv\", index=False)\n",
    "test_df.to_csv(f\"glue_data/{config}/test.csv\", index=False)\n",
    "with open(f\"glue_data/{config}/info.json\", \"wb\") as f:\n",
    "    info._dump_info(f)\n",
    "    \n",
    "\n",
    "print('done! -----------------')"
   ]
  },
  {
   "cell_type": "code",
   "execution_count": 18,
   "metadata": {},
   "outputs": [
    {
     "name": "stdout",
     "output_type": "stream",
     "text": [
      "processing qqp ...\n"
     ]
    },
    {
     "name": "stderr",
     "output_type": "stream",
     "text": [
      "Found cached dataset glue (/nas/home/souratih/.cache/huggingface/datasets/glue/qqp/1.0.0/dacbe3125aa31d7f70367a07a8a9e72a5a0bfeb5fc42e75c9db75b96da6053ad)\n"
     ]
    },
    {
     "data": {
      "application/vnd.jupyter.widget-view+json": {
       "model_id": "25610eac910e44408844143b5de53c94",
       "version_major": 2,
       "version_minor": 0
      },
      "text/plain": [
       "  0%|          | 0/3 [00:00<?, ?it/s]"
      ]
     },
     "metadata": {},
     "output_type": "display_data"
    },
    {
     "name": "stdout",
     "output_type": "stream",
     "text": [
      "DatasetDict({\n",
      "    train: Dataset({\n",
      "        features: ['question1', 'question2', 'label', 'idx'],\n",
      "        num_rows: 363846\n",
      "    })\n",
      "    validation: Dataset({\n",
      "        features: ['question1', 'question2', 'label', 'idx'],\n",
      "        num_rows: 40430\n",
      "    })\n",
      "    test: Dataset({\n",
      "        features: ['question1', 'question2', 'label', 'idx'],\n",
      "        num_rows: 390965\n",
      "    })\n",
      "})\n",
      "done! -----------------\n"
     ]
    }
   ],
   "source": [
    "config = \"qqp\"\n",
    "print('processing', config, '...')\n",
    "# store dataset and its information in its respective directory with splits train, val, test\n",
    "dataset = datasets.load_dataset(\"glue\", config)\n",
    "print(dataset)\n",
    "train_df = pd.DataFrame(dataset[\"train\"])\n",
    "val_df = pd.DataFrame(dataset[\"validation\"])\n",
    "test_df = pd.DataFrame(dataset[\"test\"])\n",
    "\n",
    "train_df.rename(columns={\"question1\": \"sentence1\", \"question2\": \"sentence2\"}, inplace=True)\n",
    "val_df.rename(columns={\"question1\": \"sentence1\", \"question2\": \"sentence2\"}, inplace=True)\n",
    "test_df.rename(columns={\"question1\": \"sentence1\", \"question2\": \"sentence2\"}, inplace=True)\n",
    "\n",
    "info = load_dataset_builder(\"glue\", config).info\n",
    "\n",
    "\n",
    "if not os.path.exists(f\"glue_data/{config}\"):\n",
    "    os.makedirs(f\"glue_data/{config}\")\n",
    "\n",
    "train_df.to_csv(f\"glue_data/{config}/train.csv\", index=False)\n",
    "val_df.to_csv(f\"glue_data/{config}/val.csv\", index=False)\n",
    "test_df.to_csv(f\"glue_data/{config}/test.csv\", index=False)\n",
    "with open(f\"glue_data/{config}/info.json\", \"wb\") as f:\n",
    "    info._dump_info(f)\n",
    "    \n",
    "\n",
    "print('done! -----------------')"
   ]
  },
  {
   "cell_type": "code",
   "execution_count": 22,
   "metadata": {},
   "outputs": [
    {
     "name": "stdout",
     "output_type": "stream",
     "text": [
      "processing rte ...\n"
     ]
    },
    {
     "name": "stderr",
     "output_type": "stream",
     "text": [
      "Found cached dataset glue (/nas/home/souratih/.cache/huggingface/datasets/glue/rte/1.0.0/dacbe3125aa31d7f70367a07a8a9e72a5a0bfeb5fc42e75c9db75b96da6053ad)\n"
     ]
    },
    {
     "data": {
      "application/vnd.jupyter.widget-view+json": {
       "model_id": "a63baae200aa4d07bd533c14b6b0c0d7",
       "version_major": 2,
       "version_minor": 0
      },
      "text/plain": [
       "  0%|          | 0/3 [00:00<?, ?it/s]"
      ]
     },
     "metadata": {},
     "output_type": "display_data"
    },
    {
     "name": "stdout",
     "output_type": "stream",
     "text": [
      "DatasetDict({\n",
      "    train: Dataset({\n",
      "        features: ['sentence1', 'sentence2', 'label', 'idx'],\n",
      "        num_rows: 2490\n",
      "    })\n",
      "    validation: Dataset({\n",
      "        features: ['sentence1', 'sentence2', 'label', 'idx'],\n",
      "        num_rows: 277\n",
      "    })\n",
      "    test: Dataset({\n",
      "        features: ['sentence1', 'sentence2', 'label', 'idx'],\n",
      "        num_rows: 3000\n",
      "    })\n",
      "})\n",
      "done! -----------------\n"
     ]
    }
   ],
   "source": [
    "config = \"rte\"\n",
    "print('processing', config, '...')\n",
    "# store dataset and its information in its respective directory with splits train, val, test\n",
    "dataset = datasets.load_dataset(\"glue\", config)\n",
    "print(dataset)\n",
    "train_df = pd.DataFrame(dataset[\"train\"])\n",
    "val_df = pd.DataFrame(dataset[\"validation\"])\n",
    "test_df = pd.DataFrame(dataset[\"test\"])\n",
    "\n",
    "info = load_dataset_builder(\"glue\", config).info\n",
    "\n",
    "\n",
    "if not os.path.exists(f\"glue_data/{config}\"):\n",
    "    os.makedirs(f\"glue_data/{config}\")\n",
    "\n",
    "train_df.to_csv(f\"glue_data/{config}/train.csv\", index=False)\n",
    "val_df.to_csv(f\"glue_data/{config}/val.csv\", index=False)\n",
    "test_df.to_csv(f\"glue_data/{config}/test.csv\", index=False)\n",
    "with open(f\"glue_data/{config}/info.json\", \"wb\") as f:\n",
    "    info._dump_info(f)\n",
    "    \n",
    "\n",
    "print('done! -----------------')"
   ]
  },
  {
   "cell_type": "code",
   "execution_count": 24,
   "metadata": {},
   "outputs": [
    {
     "name": "stdout",
     "output_type": "stream",
     "text": [
      "processing sst2 ...\n"
     ]
    },
    {
     "name": "stderr",
     "output_type": "stream",
     "text": [
      "Found cached dataset glue (/nas/home/souratih/.cache/huggingface/datasets/glue/sst2/1.0.0/dacbe3125aa31d7f70367a07a8a9e72a5a0bfeb5fc42e75c9db75b96da6053ad)\n"
     ]
    },
    {
     "data": {
      "application/vnd.jupyter.widget-view+json": {
       "model_id": "00d6a86339194a9a9692929e0ee3f3de",
       "version_major": 2,
       "version_minor": 0
      },
      "text/plain": [
       "  0%|          | 0/3 [00:00<?, ?it/s]"
      ]
     },
     "metadata": {},
     "output_type": "display_data"
    },
    {
     "name": "stdout",
     "output_type": "stream",
     "text": [
      "DatasetDict({\n",
      "    train: Dataset({\n",
      "        features: ['sentence', 'label', 'idx'],\n",
      "        num_rows: 67349\n",
      "    })\n",
      "    validation: Dataset({\n",
      "        features: ['sentence', 'label', 'idx'],\n",
      "        num_rows: 872\n",
      "    })\n",
      "    test: Dataset({\n",
      "        features: ['sentence', 'label', 'idx'],\n",
      "        num_rows: 1821\n",
      "    })\n",
      "})\n",
      "done! -----------------\n"
     ]
    }
   ],
   "source": [
    "config = \"sst2\"\n",
    "print('processing', config, '...')\n",
    "# store dataset and its information in its respective directory with splits train, val, test\n",
    "dataset = datasets.load_dataset(\"glue\", config)\n",
    "print(dataset)\n",
    "train_df = pd.DataFrame(dataset[\"train\"])\n",
    "val_df = pd.DataFrame(dataset[\"validation\"])\n",
    "test_df = pd.DataFrame(dataset[\"test\"])\n",
    "\n",
    "info = load_dataset_builder(\"glue\", config).info\n",
    "\n",
    "\n",
    "if not os.path.exists(f\"glue_data/{config}\"):\n",
    "    os.makedirs(f\"glue_data/{config}\")\n",
    "\n",
    "train_df.to_csv(f\"glue_data/{config}/train.csv\", index=False)\n",
    "val_df.to_csv(f\"glue_data/{config}/val.csv\", index=False)\n",
    "test_df.to_csv(f\"glue_data/{config}/test.csv\", index=False)\n",
    "with open(f\"glue_data/{config}/info.json\", \"wb\") as f:\n",
    "    info._dump_info(f)\n",
    "    \n",
    "\n",
    "print('done! -----------------')"
   ]
  },
  {
   "cell_type": "code",
   "execution_count": 27,
   "metadata": {},
   "outputs": [
    {
     "name": "stdout",
     "output_type": "stream",
     "text": [
      "processing stsb ...\n"
     ]
    },
    {
     "name": "stderr",
     "output_type": "stream",
     "text": [
      "Found cached dataset glue (/nas/home/souratih/.cache/huggingface/datasets/glue/stsb/1.0.0/dacbe3125aa31d7f70367a07a8a9e72a5a0bfeb5fc42e75c9db75b96da6053ad)\n"
     ]
    },
    {
     "data": {
      "application/vnd.jupyter.widget-view+json": {
       "model_id": "272dd60438f343ebad894d8eaaf80119",
       "version_major": 2,
       "version_minor": 0
      },
      "text/plain": [
       "  0%|          | 0/3 [00:00<?, ?it/s]"
      ]
     },
     "metadata": {},
     "output_type": "display_data"
    },
    {
     "name": "stdout",
     "output_type": "stream",
     "text": [
      "DatasetDict({\n",
      "    train: Dataset({\n",
      "        features: ['sentence1', 'sentence2', 'label', 'idx'],\n",
      "        num_rows: 5749\n",
      "    })\n",
      "    validation: Dataset({\n",
      "        features: ['sentence1', 'sentence2', 'label', 'idx'],\n",
      "        num_rows: 1500\n",
      "    })\n",
      "    test: Dataset({\n",
      "        features: ['sentence1', 'sentence2', 'label', 'idx'],\n",
      "        num_rows: 1379\n",
      "    })\n",
      "})\n",
      "done! -----------------\n"
     ]
    }
   ],
   "source": [
    "config = \"stsb\"\n",
    "print('processing', config, '...')\n",
    "# store dataset and its information in its respective directory with splits train, val, test\n",
    "dataset = datasets.load_dataset(\"glue\", config)\n",
    "print(dataset)\n",
    "train_df = pd.DataFrame(dataset[\"train\"])\n",
    "val_df = pd.DataFrame(dataset[\"validation\"])\n",
    "test_df = pd.DataFrame(dataset[\"test\"])\n",
    "\n",
    "info = load_dataset_builder(\"glue\", config).info\n",
    "\n",
    "\n",
    "if not os.path.exists(f\"glue_data/{config}\"):\n",
    "    os.makedirs(f\"glue_data/{config}\")\n",
    "\n",
    "train_df.to_csv(f\"glue_data/{config}/train.csv\", index=False)\n",
    "val_df.to_csv(f\"glue_data/{config}/val.csv\", index=False)\n",
    "test_df.to_csv(f\"glue_data/{config}/test.csv\", index=False)\n",
    "with open(f\"glue_data/{config}/info.json\", \"wb\") as f:\n",
    "    info._dump_info(f)\n",
    "    \n",
    "\n",
    "print('done! -----------------')"
   ]
  },
  {
   "cell_type": "code",
   "execution_count": 28,
   "metadata": {},
   "outputs": [
    {
     "name": "stdout",
     "output_type": "stream",
     "text": [
      "processing wnli ...\n"
     ]
    },
    {
     "name": "stderr",
     "output_type": "stream",
     "text": [
      "Found cached dataset glue (/nas/home/souratih/.cache/huggingface/datasets/glue/wnli/1.0.0/dacbe3125aa31d7f70367a07a8a9e72a5a0bfeb5fc42e75c9db75b96da6053ad)\n"
     ]
    },
    {
     "data": {
      "application/vnd.jupyter.widget-view+json": {
       "model_id": "63d34e98a25b4f36b1e5d2bb6893341a",
       "version_major": 2,
       "version_minor": 0
      },
      "text/plain": [
       "  0%|          | 0/3 [00:00<?, ?it/s]"
      ]
     },
     "metadata": {},
     "output_type": "display_data"
    },
    {
     "name": "stdout",
     "output_type": "stream",
     "text": [
      "DatasetDict({\n",
      "    train: Dataset({\n",
      "        features: ['sentence1', 'sentence2', 'label', 'idx'],\n",
      "        num_rows: 635\n",
      "    })\n",
      "    validation: Dataset({\n",
      "        features: ['sentence1', 'sentence2', 'label', 'idx'],\n",
      "        num_rows: 71\n",
      "    })\n",
      "    test: Dataset({\n",
      "        features: ['sentence1', 'sentence2', 'label', 'idx'],\n",
      "        num_rows: 146\n",
      "    })\n",
      "})\n",
      "done! -----------------\n"
     ]
    }
   ],
   "source": [
    "config = \"wnli\"\n",
    "print('processing', config, '...')\n",
    "# store dataset and its information in its respective directory with splits train, val, test\n",
    "dataset = datasets.load_dataset(\"glue\", config)\n",
    "print(dataset)\n",
    "train_df = pd.DataFrame(dataset[\"train\"])\n",
    "val_df = pd.DataFrame(dataset[\"validation\"])\n",
    "test_df = pd.DataFrame(dataset[\"test\"])\n",
    "\n",
    "info = load_dataset_builder(\"glue\", config).info\n",
    "\n",
    "\n",
    "if not os.path.exists(f\"glue_data/{config}\"):\n",
    "    os.makedirs(f\"glue_data/{config}\")\n",
    "\n",
    "train_df.to_csv(f\"glue_data/{config}/train.csv\", index=False)\n",
    "val_df.to_csv(f\"glue_data/{config}/val.csv\", index=False)\n",
    "test_df.to_csv(f\"glue_data/{config}/test.csv\", index=False)\n",
    "with open(f\"glue_data/{config}/info.json\", \"wb\") as f:\n",
    "    info._dump_info(f)\n",
    "    \n",
    "\n",
    "print('done! -----------------')"
   ]
  }
 ],
 "metadata": {
  "kernelspec": {
   "display_name": "prototex",
   "language": "python",
   "name": "python3"
  },
  "language_info": {
   "codemirror_mode": {
    "name": "ipython",
    "version": 3
   },
   "file_extension": ".py",
   "mimetype": "text/x-python",
   "name": "python",
   "nbconvert_exporter": "python",
   "pygments_lexer": "ipython3",
   "version": "3.9.16"
  },
  "orig_nbformat": 4
 },
 "nbformat": 4,
 "nbformat_minor": 2
}
