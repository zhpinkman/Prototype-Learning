{
 "cells": [
  {
   "cell_type": "code",
   "execution_count": 1,
   "metadata": {},
   "outputs": [],
   "source": [
    "import datasets\n",
    "from IPython import embed\n",
    "import pandas as pd\n",
    "from datasets import load_dataset, load_dataset_builder\n",
    "import os\n",
    "import json\n",
    "from matplotlib import pyplot as plt\n",
    "from dataclasses import asdict\n",
    "\n",
    "configurations = [\"cola\", \"mnli\", \"mrpc\", \"qnli\", \"qqp\", \"rte\", \"sst2\", \"stsb\", \"wnli\"]"
   ]
  },
  {
   "cell_type": "code",
   "execution_count": 2,
   "metadata": {},
   "outputs": [
    {
     "name": "stdout",
     "output_type": "stream",
     "text": [
      "processing cola ...\n"
     ]
    },
    {
     "name": "stderr",
     "output_type": "stream",
     "text": [
      "Found cached dataset glue (/nas/home/souratih/.cache/huggingface/datasets/glue/cola/1.0.0/dacbe3125aa31d7f70367a07a8a9e72a5a0bfeb5fc42e75c9db75b96da6053ad)\n"
     ]
    },
    {
     "data": {
      "application/vnd.jupyter.widget-view+json": {
       "model_id": "be26729865af4cdeaed99199d0d79c14",
       "version_major": 2,
       "version_minor": 0
      },
      "text/plain": [
       "  0%|          | 0/3 [00:00<?, ?it/s]"
      ]
     },
     "metadata": {},
     "output_type": "display_data"
    },
    {
     "name": "stdout",
     "output_type": "stream",
     "text": [
      "DatasetDict({\n",
      "    train: Dataset({\n",
      "        features: ['sentence', 'label', 'idx'],\n",
      "        num_rows: 8551\n",
      "    })\n",
      "    validation: Dataset({\n",
      "        features: ['sentence', 'label', 'idx'],\n",
      "        num_rows: 1043\n",
      "    })\n",
      "    test: Dataset({\n",
      "        features: ['sentence', 'label', 'idx'],\n",
      "        num_rows: 1063\n",
      "    })\n",
      "})\n"
     ]
    },
    {
     "data": {
      "image/png": "[encoded data removed]",
      "text/plain": [
       "<Figure size 432x288 with 1 Axes>"
      ]
     },
     "metadata": {
      "needs_background": "light"
     },
     "output_type": "display_data"
    },
    {
     "name": "stdout",
     "output_type": "stream",
     "text": [
      "done! -----------------\n"
     ]
    }
   ],
   "source": [
    "config = \"cola\"\n",
    "print('processing', config, '...')\n",
    "# store dataset and its information in its respective directory with splits train, val, test\n",
    "dataset = datasets.load_dataset(\"glue\", config)\n",
    "print(dataset)\n",
    "train_df = pd.DataFrame(dataset[\"train\"])\n",
    "val_df = pd.DataFrame(dataset[\"validation\"])\n",
    "# make test_df and val_df with ratio 0.2 0.8 from val_df\n",
    "test_df = val_df.sample(frac=0.2)\n",
    "val_df = val_df.drop(test_df.index)\n",
    "\n",
    "info = asdict(load_dataset_builder(\"glue\", config).info)\n",
    "info[\"sentence_max_length\"] = 20\n",
    "info[\"dataset_type\"] = \"classification\"\n",
    "info[\"batch_size\"] = 256\n",
    "\n",
    "\n",
    "if not os.path.exists(f\"glue_data/{config}\"):\n",
    "    os.makedirs(f\"glue_data/{config}\")\n",
    "\n",
    "train_df.to_csv(f\"glue_data/{config}/train.csv\", index=False)\n",
    "val_df.to_csv(f\"glue_data/{config}/val.csv\", index=False)\n",
    "test_df.to_csv(f\"glue_data/{config}/test.csv\", index=False)\n",
    "with open(f\"glue_data/{config}/info.json\", \"w\") as f:\n",
    "    json.dump(info, f)\n",
    "    \n",
    "\n",
    "plt.hist(train_df[\"sentence\"].apply(lambda x: len(x.split())))\n",
    "plt.show()\n",
    "\n",
    "print('done! -----------------')"
   ]
  },
  {
   "cell_type": "code",
   "execution_count": 3,
   "metadata": {},
   "outputs": [
    {
     "name": "stdout",
     "output_type": "stream",
     "text": [
      "processing mnli ...\n"
     ]
    },
    {
     "name": "stderr",
     "output_type": "stream",
     "text": [
      "Found cached dataset glue (/nas/home/souratih/.cache/huggingface/datasets/glue/mnli/1.0.0/dacbe3125aa31d7f70367a07a8a9e72a5a0bfeb5fc42e75c9db75b96da6053ad)\n"
     ]
    },
    {
     "data": {
      "application/vnd.jupyter.widget-view+json": {
       "model_id": "79d46dbc19d64a8bae638148a95fd0a8",
       "version_major": 2,
       "version_minor": 0
      },
      "text/plain": [
       "  0%|          | 0/5 [00:00<?, ?it/s]"
      ]
     },
     "metadata": {},
     "output_type": "display_data"
    },
    {
     "name": "stdout",
     "output_type": "stream",
     "text": [
      "DatasetDict({\n",
      "    train: Dataset({\n",
      "        features: ['premise', 'hypothesis', 'label', 'idx'],\n",
      "        num_rows: 392702\n",
      "    })\n",
      "    validation_matched: Dataset({\n",
      "        features: ['premise', 'hypothesis', 'label', 'idx'],\n",
      "        num_rows: 9815\n",
      "    })\n",
      "    validation_mismatched: Dataset({\n",
      "        features: ['premise', 'hypothesis', 'label', 'idx'],\n",
      "        num_rows: 9832\n",
      "    })\n",
      "    test_matched: Dataset({\n",
      "        features: ['premise', 'hypothesis', 'label', 'idx'],\n",
      "        num_rows: 9796\n",
      "    })\n",
      "    test_mismatched: Dataset({\n",
      "        features: ['premise', 'hypothesis', 'label', 'idx'],\n",
      "        num_rows: 9847\n",
      "    })\n",
      "})\n"
     ]
    },
    {
     "data": {
      "image/png": "[encoded data removed]",
      "text/plain": [
       "<Figure size 432x288 with 1 Axes>"
      ]
     },
     "metadata": {
      "needs_background": "light"
     },
     "output_type": "display_data"
    },
    {
     "data": {
      "image/png": "[encoded data removed]",
      "text/plain": [
       "<Figure size 432x288 with 1 Axes>"
      ]
     },
     "metadata": {
      "needs_background": "light"
     },
     "output_type": "display_data"
    },
    {
     "name": "stdout",
     "output_type": "stream",
     "text": [
      "done! -----------------\n"
     ]
    }
   ],
   "source": [
    "config = \"mnli\"\n",
    "print('processing', config, '...')\n",
    "# store dataset and its information in its respective directory with splits train, val, test\n",
    "dataset = datasets.load_dataset(\"glue\", config)\n",
    "print(dataset)\n",
    "train_df = pd.DataFrame(dataset[\"train\"])\n",
    "val_matched_df = pd.DataFrame(dataset[\"validation_matched\"])\n",
    "val_mismatched = pd.DataFrame(dataset[\"validation_mismatched\"])\n",
    "# test_matched_df = pd.DataFrame(dataset[\"test_matched\"])\n",
    "# test_mismatched = pd.DataFrame(dataset[\"test_mismatched\"])\n",
    "\n",
    "val_df = pd.concat([val_matched_df, val_mismatched], ignore_index=True)\n",
    "# test_df = pd.concat([test_matched_df, test_mismatched], ignore_index=True)\n",
    "\n",
    "test_df = val_df.sample(frac=0.2)\n",
    "val_df = val_df.drop(test_df.index)\n",
    "\n",
    "# change the name of the column \"premise\" to \"sentence1\" and \"hypothesis\" to \"sentence2\"\n",
    "train_df.rename(columns={\"premise\": \"sentence1\", \"hypothesis\": \"sentence2\"}, inplace=True)\n",
    "val_df.rename(columns={\"premise\": \"sentence1\", \"hypothesis\": \"sentence2\"}, inplace=True)\n",
    "test_df.rename(columns={\"premise\": \"sentence1\", \"hypothesis\": \"sentence2\"}, inplace=True)\n",
    "\n",
    "info = asdict(load_dataset_builder(\"glue\", config).info)\n",
    "info[\"sentence1_max_length\"] = 100\n",
    "info[\"sentence2_max_length\"] = 30\n",
    "info[\"batch_size\"] = 256\n",
    "info[\"dataset_type\"] = \"nli\"\n",
    "\n",
    "if not os.path.exists(f\"glue_data/{config}\"):\n",
    "    os.makedirs(f\"glue_data/{config}\")\n",
    "\n",
    "train_df.to_csv(f\"glue_data/{config}/train.csv\", index=False)\n",
    "val_df.to_csv(f\"glue_data/{config}/val.csv\", index=False)\n",
    "test_df.to_csv(f\"glue_data/{config}/test.csv\", index=False)\n",
    "with open(f\"glue_data/{config}/info.json\", \"w\") as f:\n",
    "    json.dump(info, f)\n",
    "    \n",
    "plt.hist(train_df[\"sentence1\"].apply(lambda x: len(x.split())))\n",
    "plt.show()\n",
    "\n",
    "plt.hist(train_df[\"sentence2\"].apply(lambda x: len(x.split())))\n",
    "plt.show()\n",
    "    \n",
    "\n",
    "print('done! -----------------')"
   ]
  },
  {
   "cell_type": "code",
   "execution_count": 7,
   "metadata": {},
   "outputs": [
    {
     "name": "stdout",
     "output_type": "stream",
     "text": [
      "processing mrpc ...\n"
     ]
    },
    {
     "name": "stderr",
     "output_type": "stream",
     "text": [
      "Found cached dataset glue (/nas/home/souratih/.cache/huggingface/datasets/glue/mrpc/1.0.0/dacbe3125aa31d7f70367a07a8a9e72a5a0bfeb5fc42e75c9db75b96da6053ad)\n"
     ]
    },
    {
     "data": {
      "application/vnd.jupyter.widget-view+json": {
       "model_id": "edf825d35cf84fdfb476092126bee7f6",
       "version_major": 2,
       "version_minor": 0
      },
      "text/plain": [
       "  0%|          | 0/3 [00:00<?, ?it/s]"
      ]
     },
     "metadata": {},
     "output_type": "display_data"
    },
    {
     "name": "stdout",
     "output_type": "stream",
     "text": [
      "DatasetDict({\n",
      "    train: Dataset({\n",
      "        features: ['sentence1', 'sentence2', 'label', 'idx'],\n",
      "        num_rows: 3668\n",
      "    })\n",
      "    validation: Dataset({\n",
      "        features: ['sentence1', 'sentence2', 'label', 'idx'],\n",
      "        num_rows: 408\n",
      "    })\n",
      "    test: Dataset({\n",
      "        features: ['sentence1', 'sentence2', 'label', 'idx'],\n",
      "        num_rows: 1725\n",
      "    })\n",
      "})\n"
     ]
    },
    {
     "data": {
      "image/png": "[encoded data removed]",
      "text/plain": [
       "<Figure size 432x288 with 1 Axes>"
      ]
     },
     "metadata": {
      "needs_background": "light"
     },
     "output_type": "display_data"
    },
    {
     "data": {
      "image/png": "[encoded data removed]",
      "text/plain": [
       "<Figure size 432x288 with 1 Axes>"
      ]
     },
     "metadata": {
      "needs_background": "light"
     },
     "output_type": "display_data"
    },
    {
     "name": "stdout",
     "output_type": "stream",
     "text": [
      "done! -----------------\n"
     ]
    }
   ],
   "source": [
    "config = \"mrpc\"\n",
    "print('processing', config, '...')\n",
    "# store dataset and its information in its respective directory with splits train, val, test\n",
    "dataset = datasets.load_dataset(\"glue\", config)\n",
    "print(dataset)\n",
    "train_df = pd.DataFrame(dataset[\"train\"])\n",
    "val_df = pd.DataFrame(dataset[\"validation\"])\n",
    "test_df = pd.DataFrame(dataset[\"test\"])\n",
    "\n",
    "\n",
    "info = asdict(load_dataset_builder(\"glue\", config).info)\n",
    "info[\"sentence1_max_length\"] = 35\n",
    "info[\"sentence2_max_length\"] = 35\n",
    "info[\"batch_size\"] = 256\n",
    "info[\"dataset_type\"] = \"nli\"\n",
    "\n",
    "if not os.path.exists(f\"glue_data/{config}\"):\n",
    "    os.makedirs(f\"glue_data/{config}\")\n",
    "\n",
    "train_df.to_csv(f\"glue_data/{config}/train.csv\", index=False)\n",
    "val_df.to_csv(f\"glue_data/{config}/val.csv\", index=False)\n",
    "test_df.to_csv(f\"glue_data/{config}/test.csv\", index=False)\n",
    "with open(f\"glue_data/{config}/info.json\", \"w\") as f:\n",
    "    json.dump(info, f)\n",
    "    \n",
    "plt.hist(train_df[\"sentence1\"].apply(lambda x: len(x.split())))\n",
    "plt.show()\n",
    "\n",
    "plt.hist(train_df[\"sentence2\"].apply(lambda x: len(x.split())))\n",
    "plt.show()\n",
    "\n",
    "print('done! -----------------')"
   ]
  },
  {
   "cell_type": "code",
   "execution_count": 4,
   "metadata": {},
   "outputs": [
    {
     "name": "stdout",
     "output_type": "stream",
     "text": [
      "processing qnli ...\n"
     ]
    },
    {
     "name": "stderr",
     "output_type": "stream",
     "text": [
      "Found cached dataset glue (/nas/home/souratih/.cache/huggingface/datasets/glue/qnli/1.0.0/dacbe3125aa31d7f70367a07a8a9e72a5a0bfeb5fc42e75c9db75b96da6053ad)\n"
     ]
    },
    {
     "data": {
      "application/vnd.jupyter.widget-view+json": {
       "model_id": "5bccd3c895774a95959ce3353565b153",
       "version_major": 2,
       "version_minor": 0
      },
      "text/plain": [
       "  0%|          | 0/3 [00:00<?, ?it/s]"
      ]
     },
     "metadata": {},
     "output_type": "display_data"
    },
    {
     "name": "stdout",
     "output_type": "stream",
     "text": [
      "DatasetDict({\n",
      "    train: Dataset({\n",
      "        features: ['question', 'sentence', 'label', 'idx'],\n",
      "        num_rows: 104743\n",
      "    })\n",
      "    validation: Dataset({\n",
      "        features: ['question', 'sentence', 'label', 'idx'],\n",
      "        num_rows: 5463\n",
      "    })\n",
      "    test: Dataset({\n",
      "        features: ['question', 'sentence', 'label', 'idx'],\n",
      "        num_rows: 5463\n",
      "    })\n",
      "})\n"
     ]
    },
    {
     "data": {
      "image/png": "[encoded data removed]",
      "text/plain": [
       "<Figure size 432x288 with 1 Axes>"
      ]
     },
     "metadata": {
      "needs_background": "light"
     },
     "output_type": "display_data"
    },
    {
     "data": {
      "image/png": "[encoded data removed]",
      "text/plain": [
       "<Figure size 432x288 with 1 Axes>"
      ]
     },
     "metadata": {
      "needs_background": "light"
     },
     "output_type": "display_data"
    },
    {
     "name": "stdout",
     "output_type": "stream",
     "text": [
      "done! -----------------\n"
     ]
    }
   ],
   "source": [
    "config = \"qnli\"\n",
    "print('processing', config, '...')\n",
    "# store dataset and its information in its respective directory with splits train, val, test\n",
    "dataset = datasets.load_dataset(\"glue\", config)\n",
    "print(dataset)\n",
    "train_df = pd.DataFrame(dataset[\"train\"])\n",
    "val_df = pd.DataFrame(dataset[\"validation\"])\n",
    "# test_df = pd.DataFrame(dataset[\"test\"])\n",
    "\n",
    "test_df = val_df.sample(frac=0.2)\n",
    "val_df = val_df.drop(test_df.index)\n",
    "\n",
    "train_df.rename(columns={\"question\": \"sentence1\", \"sentence\": \"sentence2\"}, inplace=True)\n",
    "val_df.rename(columns={\"question\": \"sentence1\", \"sentence\": \"sentence2\"}, inplace=True)\n",
    "test_df.rename(columns={\"question\": \"sentence1\", \"sentence\": \"sentence2\"}, inplace=True)\n",
    "\n",
    "info = asdict(load_dataset_builder(\"glue\", config).info)\n",
    "info[\"sentence1_max_length\"] = 25\n",
    "info[\"sentence2_max_length\"] = 100\n",
    "info[\"batch_size\"] = 256\n",
    "info[\"dataset_type\"] = \"nli\"\n",
    "\n",
    "if not os.path.exists(f\"glue_data/{config}\"):\n",
    "    os.makedirs(f\"glue_data/{config}\")\n",
    "\n",
    "train_df.to_csv(f\"glue_data/{config}/train.csv\", index=False)\n",
    "val_df.to_csv(f\"glue_data/{config}/val.csv\", index=False)\n",
    "test_df.to_csv(f\"glue_data/{config}/test.csv\", index=False)\n",
    "with open(f\"glue_data/{config}/info.json\", \"w\") as f:\n",
    "    json.dump(info, f)\n",
    "    \n",
    "plt.hist(train_df[\"sentence1\"].apply(lambda x: len(x.split())))\n",
    "plt.show()\n",
    "\n",
    "plt.hist(train_df[\"sentence2\"].apply(lambda x: len(x.split())))\n",
    "plt.show()\n",
    "\n",
    "print('done! -----------------')"
   ]
  },
  {
   "cell_type": "code",
   "execution_count": 5,
   "metadata": {},
   "outputs": [
    {
     "name": "stdout",
     "output_type": "stream",
     "text": [
      "processing qqp ...\n"
     ]
    },
    {
     "name": "stderr",
     "output_type": "stream",
     "text": [
      "Found cached dataset glue (/nas/home/souratih/.cache/huggingface/datasets/glue/qqp/1.0.0/dacbe3125aa31d7f70367a07a8a9e72a5a0bfeb5fc42e75c9db75b96da6053ad)\n"
     ]
    },
    {
     "data": {
      "application/vnd.jupyter.widget-view+json": {
       "model_id": "9dc15658358b4dfa9957a3a06ecbc63d",
       "version_major": 2,
       "version_minor": 0
      },
      "text/plain": [
       "  0%|          | 0/3 [00:00<?, ?it/s]"
      ]
     },
     "metadata": {},
     "output_type": "display_data"
    },
    {
     "name": "stdout",
     "output_type": "stream",
     "text": [
      "DatasetDict({\n",
      "    train: Dataset({\n",
      "        features: ['question1', 'question2', 'label', 'idx'],\n",
      "        num_rows: 363846\n",
      "    })\n",
      "    validation: Dataset({\n",
      "        features: ['question1', 'question2', 'label', 'idx'],\n",
      "        num_rows: 40430\n",
      "    })\n",
      "    test: Dataset({\n",
      "        features: ['question1', 'question2', 'label', 'idx'],\n",
      "        num_rows: 390965\n",
      "    })\n",
      "})\n"
     ]
    },
    {
     "data": {
      "image/png": "[encoded data removed]",
      "text/plain": [
       "<Figure size 432x288 with 1 Axes>"
      ]
     },
     "metadata": {
      "needs_background": "light"
     },
     "output_type": "display_data"
    },
    {
     "data": {
      "image/png": "[encoded data removed]",
      "text/plain": [
       "<Figure size 432x288 with 1 Axes>"
      ]
     },
     "metadata": {
      "needs_background": "light"
     },
     "output_type": "display_data"
    },
    {
     "name": "stdout",
     "output_type": "stream",
     "text": [
      "done! -----------------\n"
     ]
    }
   ],
   "source": [
    "config = \"qqp\"\n",
    "print('processing', config, '...')\n",
    "# store dataset and its information in its respective directory with splits train, val, test\n",
    "dataset = datasets.load_dataset(\"glue\", config)\n",
    "print(dataset)\n",
    "train_df = pd.DataFrame(dataset[\"train\"])\n",
    "val_df = pd.DataFrame(dataset[\"validation\"])\n",
    "# test_df = pd.DataFrame(dataset[\"test\"])\n",
    "\n",
    "test_df = val_df.sample(frac=0.2)\n",
    "val_df = val_df.drop(test_df.index)\n",
    "\n",
    "train_df.rename(columns={\"question1\": \"sentence1\", \"question2\": \"sentence2\"}, inplace=True)\n",
    "val_df.rename(columns={\"question1\": \"sentence1\", \"question2\": \"sentence2\"}, inplace=True)\n",
    "test_df.rename(columns={\"question1\": \"sentence1\", \"question2\": \"sentence2\"}, inplace=True)\n",
    "\n",
    "info = asdict(load_dataset_builder(\"glue\", config).info)\n",
    "info[\"sentence1_max_length\"] = 40\n",
    "info[\"sentence2_max_length\"] = 50\n",
    "info[\"batch_size\"] = 256\n",
    "info[\"dataset_type\"] = \"nli\"\n",
    "\n",
    "if not os.path.exists(f\"glue_data/{config}\"):\n",
    "    os.makedirs(f\"glue_data/{config}\")\n",
    "\n",
    "train_df.to_csv(f\"glue_data/{config}/train.csv\", index=False)\n",
    "val_df.to_csv(f\"glue_data/{config}/val.csv\", index=False)\n",
    "test_df.to_csv(f\"glue_data/{config}/test.csv\", index=False)\n",
    "with open(f\"glue_data/{config}/info.json\", \"w\") as f:\n",
    "    json.dump(info, f)\n",
    "    \n",
    "plt.hist(train_df[\"sentence1\"].apply(lambda x: len(x.split())))\n",
    "plt.show()\n",
    "\n",
    "plt.hist(train_df[\"sentence2\"].apply(lambda x: len(x.split())))\n",
    "plt.show()\n",
    "\n",
    "print('done! -----------------')"
   ]
  },
  {
   "cell_type": "code",
   "execution_count": 6,
   "metadata": {},
   "outputs": [
    {
     "name": "stdout",
     "output_type": "stream",
     "text": [
      "processing rte ...\n"
     ]
    },
    {
     "name": "stderr",
     "output_type": "stream",
     "text": [
      "Found cached dataset glue (/nas/home/souratih/.cache/huggingface/datasets/glue/rte/1.0.0/dacbe3125aa31d7f70367a07a8a9e72a5a0bfeb5fc42e75c9db75b96da6053ad)\n"
     ]
    },
    {
     "data": {
      "application/vnd.jupyter.widget-view+json": {
       "model_id": "e521a803786e4cd287e34b5fa625f1b3",
       "version_major": 2,
       "version_minor": 0
      },
      "text/plain": [
       "  0%|          | 0/3 [00:00<?, ?it/s]"
      ]
     },
     "metadata": {},
     "output_type": "display_data"
    },
    {
     "name": "stdout",
     "output_type": "stream",
     "text": [
      "DatasetDict({\n",
      "    train: Dataset({\n",
      "        features: ['sentence1', 'sentence2', 'label', 'idx'],\n",
      "        num_rows: 2490\n",
      "    })\n",
      "    validation: Dataset({\n",
      "        features: ['sentence1', 'sentence2', 'label', 'idx'],\n",
      "        num_rows: 277\n",
      "    })\n",
      "    test: Dataset({\n",
      "        features: ['sentence1', 'sentence2', 'label', 'idx'],\n",
      "        num_rows: 3000\n",
      "    })\n",
      "})\n"
     ]
    },
    {
     "data": {
      "image/png": "[encoded data removed]",
      "text/plain": [
       "<Figure size 432x288 with 1 Axes>"
      ]
     },
     "metadata": {
      "needs_background": "light"
     },
     "output_type": "display_data"
    },
    {
     "data": {
      "image/png": "[encoded data removed]",
      "text/plain": [
       "<Figure size 432x288 with 1 Axes>"
      ]
     },
     "metadata": {
      "needs_background": "light"
     },
     "output_type": "display_data"
    },
    {
     "name": "stdout",
     "output_type": "stream",
     "text": [
      "done! -----------------\n"
     ]
    }
   ],
   "source": [
    "config = \"rte\"\n",
    "print('processing', config, '...')\n",
    "# store dataset and its information in its respective directory with splits train, val, test\n",
    "dataset = datasets.load_dataset(\"glue\", config)\n",
    "print(dataset)\n",
    "train_df = pd.DataFrame(dataset[\"train\"])\n",
    "val_df = pd.DataFrame(dataset[\"validation\"])\n",
    "# test_df = pd.DataFrame(dataset[\"test\"])\n",
    "\n",
    "test_df = val_df.sample(frac=0.2)\n",
    "val_df = val_df.drop(test_df.index)\n",
    "\n",
    "info = asdict(load_dataset_builder(\"glue\", config).info)\n",
    "info[\"sentence1_max_length\"] = 150\n",
    "info[\"sentence2_max_length\"] = 30\n",
    "info[\"batch_size\"] = 256\n",
    "info[\"dataset_type\"] = \"nli\"\n",
    "\n",
    "if not os.path.exists(f\"glue_data/{config}\"):\n",
    "    os.makedirs(f\"glue_data/{config}\")\n",
    "\n",
    "train_df.to_csv(f\"glue_data/{config}/train.csv\", index=False)\n",
    "val_df.to_csv(f\"glue_data/{config}/val.csv\", index=False)\n",
    "test_df.to_csv(f\"glue_data/{config}/test.csv\", index=False)\n",
    "with open(f\"glue_data/{config}/info.json\", \"w\") as f:\n",
    "    json.dump(info, f)\n",
    "    \n",
    "plt.hist(train_df[\"sentence1\"].apply(lambda x: len(x.split())))\n",
    "plt.show()\n",
    "\n",
    "plt.hist(train_df[\"sentence2\"].apply(lambda x: len(x.split())))\n",
    "plt.show()\n",
    "\n",
    "print('done! -----------------')"
   ]
  },
  {
   "cell_type": "code",
   "execution_count": 7,
   "metadata": {},
   "outputs": [
    {
     "name": "stdout",
     "output_type": "stream",
     "text": [
      "processing sst2 ...\n"
     ]
    },
    {
     "name": "stderr",
     "output_type": "stream",
     "text": [
      "Found cached dataset glue (/nas/home/souratih/.cache/huggingface/datasets/glue/sst2/1.0.0/dacbe3125aa31d7f70367a07a8a9e72a5a0bfeb5fc42e75c9db75b96da6053ad)\n"
     ]
    },
    {
     "data": {
      "application/vnd.jupyter.widget-view+json": {
       "model_id": "861152e4161540758c79abedeca1531e",
       "version_major": 2,
       "version_minor": 0
      },
      "text/plain": [
       "  0%|          | 0/3 [00:00<?, ?it/s]"
      ]
     },
     "metadata": {},
     "output_type": "display_data"
    },
    {
     "name": "stdout",
     "output_type": "stream",
     "text": [
      "DatasetDict({\n",
      "    train: Dataset({\n",
      "        features: ['sentence', 'label', 'idx'],\n",
      "        num_rows: 67349\n",
      "    })\n",
      "    validation: Dataset({\n",
      "        features: ['sentence', 'label', 'idx'],\n",
      "        num_rows: 872\n",
      "    })\n",
      "    test: Dataset({\n",
      "        features: ['sentence', 'label', 'idx'],\n",
      "        num_rows: 1821\n",
      "    })\n",
      "})\n"
     ]
    },
    {
     "data": {
      "image/png": "[encoded data removed]",
      "text/plain": [
       "<Figure size 432x288 with 1 Axes>"
      ]
     },
     "metadata": {
      "needs_background": "light"
     },
     "output_type": "display_data"
    },
    {
     "name": "stdout",
     "output_type": "stream",
     "text": [
      "done! -----------------\n"
     ]
    }
   ],
   "source": [
    "config = \"sst2\"\n",
    "print('processing', config, '...')\n",
    "# store dataset and its information in its respective directory with splits train, val, test\n",
    "dataset = datasets.load_dataset(\"glue\", config)\n",
    "print(dataset)\n",
    "train_df = pd.DataFrame(dataset[\"train\"])\n",
    "val_df = pd.DataFrame(dataset[\"validation\"])\n",
    "# test_df = pd.DataFrame(dataset[\"test\"])\n",
    "\n",
    "test_df = val_df.sample(frac=0.2)\n",
    "val_df = val_df.drop(test_df.index)\n",
    "\n",
    "info = asdict(load_dataset_builder(\"glue\", config).info)\n",
    "info[\"sentence_max_length\"] = 40\n",
    "info[\"batch_size\"] = 256\n",
    "info[\"dataset_type\"] = \"classification\"\n",
    "\n",
    "if not os.path.exists(f\"glue_data/{config}\"):\n",
    "    os.makedirs(f\"glue_data/{config}\")\n",
    "\n",
    "train_df.to_csv(f\"glue_data/{config}/train.csv\", index=False)\n",
    "val_df.to_csv(f\"glue_data/{config}/val.csv\", index=False)\n",
    "test_df.to_csv(f\"glue_data/{config}/test.csv\", index=False)\n",
    "with open(f\"glue_data/{config}/info.json\", \"w\") as f:\n",
    "    json.dump(info, f)\n",
    "    \n",
    "\n",
    "plt.hist(train_df[\"sentence\"].apply(lambda x: len(x.split())))\n",
    "plt.show()\n",
    "\n",
    "print('done! -----------------')"
   ]
  },
  {
   "cell_type": "code",
   "execution_count": 8,
   "metadata": {},
   "outputs": [
    {
     "name": "stdout",
     "output_type": "stream",
     "text": [
      "processing stsb ...\n"
     ]
    },
    {
     "name": "stderr",
     "output_type": "stream",
     "text": [
      "Found cached dataset glue (/nas/home/souratih/.cache/huggingface/datasets/glue/stsb/1.0.0/dacbe3125aa31d7f70367a07a8a9e72a5a0bfeb5fc42e75c9db75b96da6053ad)\n"
     ]
    },
    {
     "data": {
      "application/vnd.jupyter.widget-view+json": {
       "model_id": "7e77fb3f46784485a9215a44e885854c",
       "version_major": 2,
       "version_minor": 0
      },
      "text/plain": [
       "  0%|          | 0/3 [00:00<?, ?it/s]"
      ]
     },
     "metadata": {},
     "output_type": "display_data"
    },
    {
     "name": "stdout",
     "output_type": "stream",
     "text": [
      "DatasetDict({\n",
      "    train: Dataset({\n",
      "        features: ['sentence1', 'sentence2', 'label', 'idx'],\n",
      "        num_rows: 5749\n",
      "    })\n",
      "    validation: Dataset({\n",
      "        features: ['sentence1', 'sentence2', 'label', 'idx'],\n",
      "        num_rows: 1500\n",
      "    })\n",
      "    test: Dataset({\n",
      "        features: ['sentence1', 'sentence2', 'label', 'idx'],\n",
      "        num_rows: 1379\n",
      "    })\n",
      "})\n"
     ]
    },
    {
     "data": {
      "image/png": "[encoded data removed]",
      "text/plain": [
       "<Figure size 432x288 with 1 Axes>"
      ]
     },
     "metadata": {
      "needs_background": "light"
     },
     "output_type": "display_data"
    },
    {
     "data": {
      "image/png": "[encoded data removed]",
      "text/plain": [
       "<Figure size 432x288 with 1 Axes>"
      ]
     },
     "metadata": {
      "needs_background": "light"
     },
     "output_type": "display_data"
    },
    {
     "name": "stdout",
     "output_type": "stream",
     "text": [
      "done! -----------------\n"
     ]
    }
   ],
   "source": [
    "config = \"stsb\"\n",
    "print('processing', config, '...')\n",
    "# store dataset and its information in its respective directory with splits train, val, test\n",
    "dataset = datasets.load_dataset(\"glue\", config)\n",
    "print(dataset)\n",
    "train_df = pd.DataFrame(dataset[\"train\"])\n",
    "val_df = pd.DataFrame(dataset[\"validation\"])\n",
    "# test_df = pd.DataFrame(dataset[\"test\"])\n",
    "\n",
    "test_df = val_df.sample(frac=0.2)\n",
    "val_df = val_df.drop(test_df.index)\n",
    "\n",
    "info = asdict(load_dataset_builder(\"glue\", config).info)\n",
    "info[\"sentence1_max_length\"] = 30\n",
    "info[\"sentence2_max_length\"] = 30\n",
    "info[\"batch_size\"] = 256\n",
    "info[\"dataset_type\"] = \"nli\"\n",
    "\n",
    "if not os.path.exists(f\"glue_data/{config}\"):\n",
    "    os.makedirs(f\"glue_data/{config}\")\n",
    "\n",
    "train_df.to_csv(f\"glue_data/{config}/train.csv\", index=False)\n",
    "val_df.to_csv(f\"glue_data/{config}/val.csv\", index=False)\n",
    "test_df.to_csv(f\"glue_data/{config}/test.csv\", index=False)\n",
    "with open(f\"glue_data/{config}/info.json\", \"w\") as f:\n",
    "    json.dump(info, f)\n",
    "    \n",
    "plt.hist(train_df[\"sentence1\"].apply(lambda x: len(x.split())))\n",
    "plt.show()\n",
    "\n",
    "plt.hist(train_df[\"sentence2\"].apply(lambda x: len(x.split())))\n",
    "plt.show()\n",
    "\n",
    "print('done! -----------------')"
   ]
  },
  {
   "cell_type": "code",
   "execution_count": 9,
   "metadata": {},
   "outputs": [
    {
     "name": "stdout",
     "output_type": "stream",
     "text": [
      "processing wnli ...\n"
     ]
    },
    {
     "name": "stderr",
     "output_type": "stream",
     "text": [
      "Found cached dataset glue (/nas/home/souratih/.cache/huggingface/datasets/glue/wnli/1.0.0/dacbe3125aa31d7f70367a07a8a9e72a5a0bfeb5fc42e75c9db75b96da6053ad)\n"
     ]
    },
    {
     "data": {
      "application/vnd.jupyter.widget-view+json": {
       "model_id": "e5bd053e959648f7bdd86ac1f449926c",
       "version_major": 2,
       "version_minor": 0
      },
      "text/plain": [
       "  0%|          | 0/3 [00:00<?, ?it/s]"
      ]
     },
     "metadata": {},
     "output_type": "display_data"
    },
    {
     "name": "stdout",
     "output_type": "stream",
     "text": [
      "DatasetDict({\n",
      "    train: Dataset({\n",
      "        features: ['sentence1', 'sentence2', 'label', 'idx'],\n",
      "        num_rows: 635\n",
      "    })\n",
      "    validation: Dataset({\n",
      "        features: ['sentence1', 'sentence2', 'label', 'idx'],\n",
      "        num_rows: 71\n",
      "    })\n",
      "    test: Dataset({\n",
      "        features: ['sentence1', 'sentence2', 'label', 'idx'],\n",
      "        num_rows: 146\n",
      "    })\n",
      "})\n"
     ]
    },
    {
     "data": {
      "image/png": "[encoded data removed]",
      "text/plain": [
       "<Figure size 432x288 with 1 Axes>"
      ]
     },
     "metadata": {
      "needs_background": "light"
     },
     "output_type": "display_data"
    },
    {
     "data": {
      "image/png": "[encoded data removed]",
      "text/plain": [
       "<Figure size 432x288 with 1 Axes>"
      ]
     },
     "metadata": {
      "needs_background": "light"
     },
     "output_type": "display_data"
    },
    {
     "name": "stdout",
     "output_type": "stream",
     "text": [
      "done! -----------------\n"
     ]
    }
   ],
   "source": [
    "config = \"wnli\"\n",
    "print('processing', config, '...')\n",
    "# store dataset and its information in its respective directory with splits train, val, test\n",
    "dataset = datasets.load_dataset(\"glue\", config)\n",
    "print(dataset)\n",
    "train_df = pd.DataFrame(dataset[\"train\"])\n",
    "val_df = pd.DataFrame(dataset[\"validation\"])\n",
    "# test_df = pd.DataFrame(dataset[\"test\"])\n",
    "\n",
    "test_df = val_df.sample(frac=0.2)\n",
    "val_df = val_df.drop(test_df.index)\n",
    "\n",
    "info = asdict(load_dataset_builder(\"glue\", config).info)\n",
    "info[\"sentence1_max_length\"] = 50\n",
    "info[\"sentence2_max_length\"] = 30\n",
    "info[\"batch_size\"] = 256\n",
    "info[\"dataset_type\"] = \"nli\"\n",
    "\n",
    "if not os.path.exists(f\"glue_data/{config}\"):\n",
    "    os.makedirs(f\"glue_data/{config}\")\n",
    "\n",
    "train_df.to_csv(f\"glue_data/{config}/train.csv\", index=False)\n",
    "val_df.to_csv(f\"glue_data/{config}/val.csv\", index=False)\n",
    "test_df.to_csv(f\"glue_data/{config}/test.csv\", index=False)\n",
    "with open(f\"glue_data/{config}/info.json\", \"w\") as f:\n",
    "    json.dump(info, f)\n",
    "   \n",
    "plt.hist(train_df[\"sentence1\"].apply(lambda x: len(x.split())))\n",
    "plt.show()\n",
    "\n",
    "plt.hist(train_df[\"sentence2\"].apply(lambda x: len(x.split())))\n",
    "plt.show() \n",
    "\n",
    "print('done! -----------------')"
   ]
  }
 ],
 "metadata": {
  "kernelspec": {
   "display_name": "prototex",
   "language": "python",
   "name": "python3"
  },
  "language_info": {
   "codemirror_mode": {
    "name": "ipython",
    "version": 3
   },
   "file_extension": ".py",
   "mimetype": "text/x-python",
   "name": "python",
   "nbconvert_exporter": "python",
   "pygments_lexer": "ipython3",
   "version": "3.9.16"
  },
  "orig_nbformat": 4
 },
 "nbformat": 4,
 "nbformat_minor": 2
}
