{
 "cells": [
  {
   "cell_type": "code",
   "execution_count": 19,
   "metadata": {},
   "outputs": [],
   "source": [
    "import pandas as pd"
   ]
  },
  {
   "cell_type": "code",
   "execution_count": 20,
   "metadata": {},
   "outputs": [
    {
     "name": "stdout",
     "output_type": "stream",
     "text": [
      "\"fallacy of logic\" :0,\n",
      "\"circular reasoning\" :1,\n",
      "\"appeal to emotion\" :2,\n",
      "\"intentional\" :3,\n",
      "\"faulty generalization\" :4,\n",
      "\"fallacy of extension\" :5,\n",
      "\"false dilemma\" :6,\n",
      "\"ad populum\" :7,\n",
      "\"ad hominem\" :8,\n",
      "\"false causality\" :9,\n",
      "\"equivocation\" :10,\n",
      "\"fallacy of relevance\" :11,\n",
      "\"fallacy of credibility\" :12,\n",
      "--------------------\n",
      "\"ad populum\" :0,\n",
      "\"fallacy of relevance\" :1,\n",
      "\"intentional\" :2,\n",
      "\"fallacy of logic\" :3,\n",
      "\"false causality\" :4,\n",
      "\"faulty generalization\" :5,\n",
      "\"ad hominem\" :6,\n",
      "\"false dilemma\" :7,\n",
      "\"appeal to emotion\" :8,\n",
      "\"circular reasoning\" :9,\n",
      "\"fallacy of extension\" :10,\n",
      "\"fallacy of credibility\" :11,\n",
      "\"equivocation\" :12,\n",
      "--------------------\n",
      "\"false dilemma\" :0,\n",
      "\"faulty generalization\" :1,\n",
      "\"fallacy of credibility\" :2,\n",
      "\"fallacy of relevance\" :3,\n",
      "\"fallacy of logic\" :4,\n",
      "\"ad hominem\" :5,\n",
      "\"circular reasoning\" :6,\n",
      "\"ad populum\" :7,\n",
      "\"false causality\" :8,\n",
      "\"fallacy of extension\" :9,\n",
      "\"intentional\" :10,\n",
      "\"appeal to emotion\" :11,\n",
      "\"equivocation\" :12,\n"
     ]
    }
   ],
   "source": [
    "df = pd.read_csv(\"../data/finegrained/train.csv\")\n",
    "for x in list(zip(list(range(13)), list(df.label.unique()))):\n",
    "    print(f\"\\\"{x[1]}\\\" :{x[0]},\")\n",
    "print('-'*20)\n",
    "df = pd.read_csv(\"../data/finegrained/val.csv\")\n",
    "for x in list(zip(list(range(13)), list(df.label.unique()))):\n",
    "    print(f\"\\\"{x[1]}\\\" :{x[0]},\")\n",
    "print('-'*20)\n",
    "df = pd.read_csv(\"../data/finegrained/test.csv\")\n",
    "for x in list(zip(list(range(13)), list(df.label.unique()))):\n",
    "    print(f\"\\\"{x[1]}\\\" :{x[0]},\")"
   ]
  },
  {
   "cell_type": "code",
   "execution_count": 16,
   "metadata": {},
   "outputs": [
    {
     "name": "stdout",
     "output_type": "stream",
     "text": [
      "\"false causality\" :0,\n",
      "\"faulty generalization\" :1,\n",
      "\"ad populum\" :2,\n",
      "\"appeal to emotion\" :3,\n",
      "\"fallacy of logic\" :4,\n",
      "\"circular reasoning\" :5,\n",
      "\"fallacy of credibility\" :6,\n",
      "\"fallacy of red herring\" :7,\n",
      "\"false dilemma\" :8,\n",
      "\"intentional\" :9,\n",
      "\"fallacy of extension\" :10,\n",
      "\"ad hominem\" :11,\n",
      "\"slothful induction\" :12,\n"
     ]
    }
   ],
   "source": []
  }
 ],
 "metadata": {
  "kernelspec": {
   "display_name": "prototex",
   "language": "python",
   "name": "python3"
  },
  "language_info": {
   "codemirror_mode": {
    "name": "ipython",
    "version": 3
   },
   "file_extension": ".py",
   "mimetype": "text/x-python",
   "name": "python",
   "nbconvert_exporter": "python",
   "pygments_lexer": "ipython3",
   "version": "3.9.16"
  },
  "orig_nbformat": 4
 },
 "nbformat": 4,
 "nbformat_minor": 2
}
