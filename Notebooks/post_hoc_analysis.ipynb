{
 "cells": [
  {
   "cell_type": "code",
   "execution_count": 1,
   "metadata": {},
   "outputs": [],
   "source": [
    "import joblib\n",
    "import pandas as pd\n",
    "import numpy as np\n",
    "from transformers import BartTokenizer"
   ]
  },
  {
   "cell_type": "code",
   "execution_count": 2,
   "metadata": {},
   "outputs": [
    {
     "name": "stdout",
     "output_type": "stream",
     "text": [
      "['/scratch/zhivar/prototex_custom/Notebooks', '/scratch/zhivar/anaconda3/envs/prototex/lib/python39.zip', '/scratch/zhivar/anaconda3/envs/prototex/lib/python3.9', '/scratch/zhivar/anaconda3/envs/prototex/lib/python3.9/lib-dynload', '', '/scratch/zhivar/anaconda3/envs/prototex/lib/python3.9/site-packages', '../']\n"
     ]
    }
   ],
   "source": [
    "import sys\n",
    "\n",
    "MOD_FOLDER = '../'\n",
    "# setting path to enable import from the parent directory\n",
    "sys.path.append(MOD_FOLDER)\n",
    "print(sys.path)"
   ]
  },
  {
   "cell_type": "code",
   "execution_count": 3,
   "metadata": {},
   "outputs": [],
   "source": [
    "tokenizer = BartTokenizer.from_pretrained('ModelTC/bart-base-mnli')\n",
    "\n",
    "\n",
    "train_df = pd.read_csv(\"../data/finegrained/train.csv\")\n",
    "val_df = pd.read_csv(\"../data/finegrained/val.csv\")\n",
    "test_df = pd.read_csv(\"../data/finegrained/test.csv\")\n",
    "\n",
    "train_sentences = train_df['text'].tolist()\n",
    "test_sentences = test_df['text'].tolist()\n",
    "train_labels = train_df['label'].tolist()\n",
    "val_labels = val_df['label'].tolist()\n",
    "test_labels = test_df['label'].tolist()"
   ]
  },
  {
   "cell_type": "code",
   "execution_count": 4,
   "metadata": {},
   "outputs": [],
   "source": [
    "bestk_train_data_per_proto = joblib.load(\"../artifacts/bestk_train_data_per_proto.joblib\")\n",
    "best_protos_per_testeg = joblib.load(\"../artifacts/best_protos_per_testeg.joblib\")"
   ]
  },
  {
   "cell_type": "code",
   "execution_count": 5,
   "metadata": {},
   "outputs": [
    {
     "data": {
      "text/plain": [
       "(50, 5)"
      ]
     },
     "execution_count": 5,
     "metadata": {},
     "output_type": "execute_result"
    }
   ],
   "source": [
    "bestk_train_data_per_proto[0].shape"
   ]
  },
  {
   "cell_type": "code",
   "execution_count": 6,
   "metadata": {},
   "outputs": [
    {
     "data": {
      "text/plain": [
       "torch.Size([331, 5])"
      ]
     },
     "execution_count": 6,
     "metadata": {},
     "output_type": "execute_result"
    }
   ],
   "source": [
    "best_protos_per_testeg[0].shape"
   ]
  },
  {
   "cell_type": "markdown",
   "metadata": {},
   "source": [
    "#### Accuracy of test example label being present in the topk train sample labels close to the best prototype."
   ]
  },
  {
   "cell_type": "code",
   "execution_count": 7,
   "metadata": {},
   "outputs": [],
   "source": [
    "results = []\n",
    "for test_index, test_sample_prototypes in enumerate(best_protos_per_testeg[0]):\n",
    "    test_sample_label = test_labels[test_index]\n",
    "    respective_prototypes_train_labels = []\n",
    "    for prototype in test_sample_prototypes:\n",
    "        prototype_train_labels = []\n",
    "        train_samples_close_to_prototype = bestk_train_data_per_proto[0][prototype]\n",
    "        for train_sample in train_samples_close_to_prototype:\n",
    "            prototype_train_labels.append(train_labels[train_sample])\n",
    "        respective_prototypes_train_labels.append(prototype_train_labels)\n",
    "    results.append((test_sample_label, respective_prototypes_train_labels))"
   ]
  },
  {
   "cell_type": "code",
   "execution_count": 8,
   "metadata": {},
   "outputs": [],
   "source": [
    "def get_accuracy_of_model_on_label(results, k = 5):\n",
    "    statistics = []\n",
    "    for test_label, prototypes_train_labels in results:\n",
    "        per_test_statistics = []\n",
    "        for prototype_train_labels in prototypes_train_labels:\n",
    "            per_test_statistics.append(test_label in prototype_train_labels)\n",
    "        statistics.append(per_test_statistics)\n",
    "    statistics = np.array(statistics)\n",
    "    return np.round(np.mean(np.sum(statistics[:,:k], axis = 1) != 0), 3)"
   ]
  },
  {
   "cell_type": "code",
   "execution_count": 9,
   "metadata": {},
   "outputs": [],
   "source": [
    "from collections import defaultdict\n",
    "accuracies = defaultdict(list)\n",
    "for k in [5, 3, 1]:\n",
    "    overall_accuracy = get_accuracy_of_model_on_label(results, k)\n",
    "    accuracies[k].append(overall_accuracy)\n",
    "    for label in set(train_labels):\n",
    "        if label == \"O\": \n",
    "            continue\n",
    "        label_specific_accuracy = get_accuracy_of_model_on_label([result for result in results if result[0] == label], k)\n",
    "        accuracies[k].append(label_specific_accuracy)\n",
    "report_labels = list(set(train_labels))\n",
    "        "
   ]
  },
  {
   "cell_type": "code",
   "execution_count": 10,
   "metadata": {},
   "outputs": [],
   "source": [
    "report_df = pd.DataFrame(\n",
    "    {\n",
    "        'class': [\n",
    "            'overall',\n",
    "            *report_labels\n",
    "        ],\n",
    "        'k = 5': accuracies[5],\n",
    "        'k = 3': accuracies[3],\n",
    "        'k = 1': accuracies[1]\n",
    "    }\n",
    ")"
   ]
  },
  {
   "cell_type": "code",
   "execution_count": 11,
   "metadata": {},
   "outputs": [
    {
     "data": {
      "text/html": [
       "<div>\n",
       "<style scoped>\n",
       "    .dataframe tbody tr th:only-of-type {\n",
       "        vertical-align: middle;\n",
       "    }\n",
       "\n",
       "    .dataframe tbody tr th {\n",
       "        vertical-align: top;\n",
       "    }\n",
       "\n",
       "    .dataframe thead th {\n",
       "        text-align: right;\n",
       "    }\n",
       "</style>\n",
       "<table border=\"1\" class=\"dataframe\">\n",
       "  <thead>\n",
       "    <tr style=\"text-align: right;\">\n",
       "      <th></th>\n",
       "      <th>class</th>\n",
       "      <th>k = 5</th>\n",
       "      <th>k = 3</th>\n",
       "      <th>k = 1</th>\n",
       "    </tr>\n",
       "  </thead>\n",
       "  <tbody>\n",
       "    <tr>\n",
       "      <th>0</th>\n",
       "      <td>overall</td>\n",
       "      <td>0.882</td>\n",
       "      <td>0.770</td>\n",
       "      <td>0.580</td>\n",
       "    </tr>\n",
       "    <tr>\n",
       "      <th>1</th>\n",
       "      <td>false dilemma</td>\n",
       "      <td>0.947</td>\n",
       "      <td>0.895</td>\n",
       "      <td>0.895</td>\n",
       "    </tr>\n",
       "    <tr>\n",
       "      <th>2</th>\n",
       "      <td>ad hominem</td>\n",
       "      <td>1.000</td>\n",
       "      <td>1.000</td>\n",
       "      <td>0.923</td>\n",
       "    </tr>\n",
       "    <tr>\n",
       "      <th>3</th>\n",
       "      <td>appeal to emotion</td>\n",
       "      <td>0.826</td>\n",
       "      <td>0.783</td>\n",
       "      <td>0.609</td>\n",
       "    </tr>\n",
       "    <tr>\n",
       "      <th>4</th>\n",
       "      <td>circular reasoning</td>\n",
       "      <td>1.000</td>\n",
       "      <td>0.826</td>\n",
       "      <td>0.652</td>\n",
       "    </tr>\n",
       "    <tr>\n",
       "      <th>5</th>\n",
       "      <td>faulty generalization</td>\n",
       "      <td>0.950</td>\n",
       "      <td>0.867</td>\n",
       "      <td>0.683</td>\n",
       "    </tr>\n",
       "    <tr>\n",
       "      <th>6</th>\n",
       "      <td>fallacy of extension</td>\n",
       "      <td>0.944</td>\n",
       "      <td>0.500</td>\n",
       "      <td>0.000</td>\n",
       "    </tr>\n",
       "    <tr>\n",
       "      <th>7</th>\n",
       "      <td>fallacy of relevance</td>\n",
       "      <td>0.818</td>\n",
       "      <td>0.636</td>\n",
       "      <td>0.409</td>\n",
       "    </tr>\n",
       "    <tr>\n",
       "      <th>8</th>\n",
       "      <td>equivocation</td>\n",
       "      <td>0.571</td>\n",
       "      <td>0.000</td>\n",
       "      <td>0.000</td>\n",
       "    </tr>\n",
       "    <tr>\n",
       "      <th>9</th>\n",
       "      <td>ad populum</td>\n",
       "      <td>0.968</td>\n",
       "      <td>0.935</td>\n",
       "      <td>0.871</td>\n",
       "    </tr>\n",
       "    <tr>\n",
       "      <th>10</th>\n",
       "      <td>fallacy of logic</td>\n",
       "      <td>1.000</td>\n",
       "      <td>0.909</td>\n",
       "      <td>0.591</td>\n",
       "    </tr>\n",
       "    <tr>\n",
       "      <th>11</th>\n",
       "      <td>intentional</td>\n",
       "      <td>0.500</td>\n",
       "      <td>0.350</td>\n",
       "      <td>0.200</td>\n",
       "    </tr>\n",
       "    <tr>\n",
       "      <th>12</th>\n",
       "      <td>fallacy of credibility</td>\n",
       "      <td>0.526</td>\n",
       "      <td>0.474</td>\n",
       "      <td>0.053</td>\n",
       "    </tr>\n",
       "    <tr>\n",
       "      <th>13</th>\n",
       "      <td>false causality</td>\n",
       "      <td>0.893</td>\n",
       "      <td>0.786</td>\n",
       "      <td>0.536</td>\n",
       "    </tr>\n",
       "  </tbody>\n",
       "</table>\n",
       "</div>"
      ],
      "text/plain": [
       "                     class  k = 5  k = 3  k = 1\n",
       "0                  overall  0.882  0.770  0.580\n",
       "1            false dilemma  0.947  0.895  0.895\n",
       "2               ad hominem  1.000  1.000  0.923\n",
       "3        appeal to emotion  0.826  0.783  0.609\n",
       "4       circular reasoning  1.000  0.826  0.652\n",
       "5    faulty generalization  0.950  0.867  0.683\n",
       "6     fallacy of extension  0.944  0.500  0.000\n",
       "7     fallacy of relevance  0.818  0.636  0.409\n",
       "8             equivocation  0.571  0.000  0.000\n",
       "9               ad populum  0.968  0.935  0.871\n",
       "10        fallacy of logic  1.000  0.909  0.591\n",
       "11             intentional  0.500  0.350  0.200\n",
       "12  fallacy of credibility  0.526  0.474  0.053\n",
       "13         false causality  0.893  0.786  0.536"
      ]
     },
     "execution_count": 11,
     "metadata": {},
     "output_type": "execute_result"
    }
   ],
   "source": [
    "report_df"
   ]
  },
  {
   "cell_type": "markdown",
   "metadata": {},
   "source": [
    "### Overlapping prototypes for each training label"
   ]
  },
  {
   "cell_type": "code",
   "execution_count": 12,
   "metadata": {},
   "outputs": [
    {
     "name": "stdout",
     "output_type": "stream",
     "text": [
      "fallacy of logic: {0, 1, 2, 35, 36, 38, 7, 43, 46, 16, 18, 22, 25, 28, 29}\n",
      "circular reasoning: {0, 2, 35, 36, 34, 39, 16, 17, 19, 20, 23, 25, 27, 28, 30}\n",
      "appeal to emotion: {0, 33, 2, 34, 36, 37, 35, 38, 40, 41, 7, 8, 13, 46, 14, 45, 22, 26}\n",
      "intentional: {0, 1, 2, 6, 9, 11, 12, 14, 16, 20, 22, 23, 24, 28, 30, 34, 36, 37, 39, 40, 42, 48, 49}\n",
      "faulty generalization: {1, 2, 3, 7, 9, 10, 12, 13, 17, 18, 22, 25, 26, 28, 30, 32, 33, 34, 36, 37, 38, 42, 46, 47, 49}\n",
      "fallacy of extension: {0, 1, 2, 5, 8, 9, 12, 13, 18, 19, 23, 24, 26, 29, 34, 36, 37, 40, 41, 44, 46, 49}\n",
      "false dilemma: {32, 1, 34, 36, 37, 9, 10, 12, 13, 46, 15, 18, 20, 26, 28, 29, 30}\n",
      "ad populum: {0, 2, 4, 11, 12, 17, 21, 25, 28, 33, 34, 36, 37, 39, 41, 43, 45, 48, 49}\n",
      "ad hominem: {34, 2, 36, 8, 41, 42, 11, 44, 49, 18, 19}\n",
      "false causality: {0, 2, 3, 4, 36, 35, 42, 12, 13, 46, 15, 20, 22, 23, 25, 28, 29, 31}\n",
      "equivocation: {0, 1, 2, 3, 5, 10, 13, 18, 20, 21, 24, 25, 30, 31, 34, 35, 38, 39, 46, 47, 48}\n",
      "fallacy of relevance: {0, 1, 2, 34, 32, 38, 39, 7, 44, 12, 46, 16, 49, 18, 23, 29}\n",
      "fallacy of credibility: {0, 33, 34, 2, 36, 38, 7, 41, 13, 46, 45, 47, 49, 20, 21, 22, 23, 28}\n"
     ]
    }
   ],
   "source": [
    "best_protos_per_traineg = joblib.load(\"../artifacts/best_protos_per_traineg.joblib\")\n",
    "train_prototype_sentences = defaultdict(set)\n",
    "for train_index, train_sample_prototypes in enumerate(best_protos_per_traineg[0]):\n",
    "    for prototype in train_sample_prototypes.tolist()[:3]:\n",
    "        train_prototype_sentences[train_labels[train_index]].add(prototype)\n",
    "for key, values in train_prototype_sentences.items():\n",
    "    print(f\"{key}: {values}\")"
   ]
  },
  {
   "cell_type": "code",
   "execution_count": 13,
   "metadata": {},
   "outputs": [
    {
     "name": "stdout",
     "output_type": "stream",
     "text": [
      "false dilemma: {0, 1, 34, 2, 36, 39, 9, 12, 13, 46, 49, 18, 25, 26, 28}\n",
      "faulty generalization: {0, 1, 2, 4, 7, 8, 9, 12, 13, 18, 22, 23, 25, 26, 28, 29, 30, 33, 34, 36, 38, 40, 42, 43, 46, 47, 49}\n",
      "fallacy of credibility: {0, 1, 34, 2, 36, 5, 38, 8, 43, 46, 49, 18, 19, 20, 24, 26, 28}\n",
      "fallacy of relevance: {0, 1, 34, 2, 36, 41, 44, 13, 46, 16, 49, 18, 20, 22, 23, 24, 25, 28}\n",
      "fallacy of logic: {0, 1, 2, 34, 36, 43, 13, 46, 18, 25, 26, 28, 29}\n",
      "ad hominem: {0, 1, 2, 7, 8, 12, 18, 19, 22, 24, 25, 31, 34, 36, 37, 39, 40, 41, 46, 49}\n",
      "circular reasoning: {0, 1, 34, 2, 36, 39, 46, 25, 27, 28, 29, 30}\n",
      "ad populum: {0, 1, 2, 34, 4, 37, 36, 39, 38, 41, 6, 43, 46, 48, 21, 25, 28}\n",
      "false causality: {0, 1, 2, 3, 12, 16, 18, 20, 22, 24, 25, 26, 28, 34, 36, 39, 40, 42, 46}\n",
      "fallacy of extension: {0, 1, 2, 34, 36, 39, 8, 46, 18, 19, 24, 25, 26, 29}\n",
      "intentional: {0, 1, 34, 2, 36, 6, 39, 41, 12, 46, 14, 49, 18, 22, 26, 28}\n",
      "appeal to emotion: {0, 1, 2, 34, 36, 43, 13, 46, 22, 25, 26, 28}\n",
      "equivocation: {0, 1, 34, 2, 36, 39, 40, 46, 25, 27}\n"
     ]
    }
   ],
   "source": [
    "best_protos_per_testeg = joblib.load(\"../artifacts/best_protos_per_testeg.joblib\")\n",
    "test_prototype_sentences = defaultdict(set)\n",
    "for test_index, test_sample_prototypes in enumerate(best_protos_per_testeg[0]):\n",
    "    for prototype in test_sample_prototypes.tolist()[:3]:\n",
    "        test_prototype_sentences[test_labels[test_index]].add(prototype)\n",
    "for key, values in test_prototype_sentences.items():\n",
    "    print(f\"{key}: {values}\")"
   ]
  },
  {
   "cell_type": "markdown",
   "metadata": {},
   "source": [
    "### Clustering prototype tensors"
   ]
  },
  {
   "cell_type": "code",
   "execution_count": 14,
   "metadata": {},
   "outputs": [],
   "source": [
    "import seaborn as sns\n",
    "from sklearn.decomposition import PCA\n",
    "import seaborn as sns\n",
    "from sklearn.manifold import TSNE\n",
    "import numpy as np"
   ]
  },
  {
   "cell_type": "code",
   "execution_count": 15,
   "metadata": {},
   "outputs": [
    {
     "name": "stdout",
     "output_type": "stream",
     "text": [
      "torch.Size([50, 128, 768])\n",
      "torch.Size([50, 98304])\n",
      "tensor(-0.0335, grad_fn=<MinBackward1>)\n",
      "tensor(0.0288, grad_fn=<MaxBackward1>)\n"
     ]
    }
   ],
   "source": [
    "import torch\n",
    "all_protos = torch.load(\"../artifacts/all_protos.pt\")\n",
    "all_protos = all_protos.cpu()\n",
    "print(all_protos.shape)\n",
    "num_protos = 50\n",
    "all_protos = all_protos.view(num_protos, -1)\n",
    "print(all_protos.shape)\n",
    "print(all_protos.min())\n",
    "print(all_protos.max())"
   ]
  },
  {
   "cell_type": "code",
   "execution_count": 16,
   "metadata": {},
   "outputs": [
    {
     "name": "stdout",
     "output_type": "stream",
     "text": [
      "(50, 2)\n"
     ]
    },
    {
     "data": {
      "text/plain": [
       "<Axes: xlabel='2nd component', ylabel='1st component'>"
      ]
     },
     "execution_count": 16,
     "metadata": {},
     "output_type": "execute_result"
    },
    {
     "data": {
      "image/png": "[encoded data removed]",
      "text/plain": [
       "<Figure size 432x288 with 1 Axes>"
      ]
     },
     "metadata": {
      "needs_background": "light"
     },
     "output_type": "display_data"
    }
   ],
   "source": [
    "pca = PCA(n_components=2)\n",
    "all_protos_transformed = pca.fit_transform(all_protos.detach().numpy())\n",
    "print(all_protos_transformed.shape)\n",
    "\n",
    "proto_df = {\n",
    "    \"1st component\": all_protos_transformed[:,0].tolist(),\n",
    "    \"2nd component\": all_protos_transformed[:,1].tolist(),\n",
    "    \"Protoypes\": np.arange(1, 51).tolist()\n",
    "}\n",
    "sns.scatterplot(data=proto_df, x=\"2nd component\", y=\"1st component\", hue=\"Protoypes\")"
   ]
  },
  {
   "cell_type": "code",
   "execution_count": 17,
   "metadata": {},
   "outputs": [
    {
     "name": "stdout",
     "output_type": "stream",
     "text": [
      "(50, 2)\n"
     ]
    },
    {
     "data": {
      "text/plain": [
       "<Axes: xlabel='Y', ylabel='X'>"
      ]
     },
     "execution_count": 17,
     "metadata": {},
     "output_type": "execute_result"
    },
    {
     "data": {
      "image/png": "[encoded data removed]",
      "text/plain": [
       "<Figure size 432x288 with 1 Axes>"
      ]
     },
     "metadata": {
      "needs_background": "light"
     },
     "output_type": "display_data"
    }
   ],
   "source": [
    "tsne = TSNE(n_components=2, learning_rate='auto', init='random', perplexity=2)\n",
    "all_protos_transformed = tsne.fit_transform(all_protos.detach().numpy())\n",
    "print(all_protos_transformed.shape)\n",
    "\n",
    "proto_df = {\n",
    "    \"X\": all_protos_transformed[:,0].tolist(),\n",
    "    \"Y\": all_protos_transformed[:,1].tolist(),\n",
    "    \"Label\": np.arange(1, 51).tolist()\n",
    "}\n",
    "sns.scatterplot(data=proto_df, x=\"Y\", y=\"X\", hue=\"Label\")"
   ]
  },
  {
   "cell_type": "code",
   "execution_count": 18,
   "metadata": {},
   "outputs": [
    {
     "name": "stdout",
     "output_type": "stream",
     "text": [
      "(50, 2)\n"
     ]
    },
    {
     "data": {
      "text/plain": [
       "<Axes: xlabel='Y', ylabel='X'>"
      ]
     },
     "execution_count": 18,
     "metadata": {},
     "output_type": "execute_result"
    },
    {
     "data": {
      "image/png": "[encoded data removed]",
      "text/plain": [
       "<Figure size 432x288 with 1 Axes>"
      ]
     },
     "metadata": {
      "needs_background": "light"
     },
     "output_type": "display_data"
    }
   ],
   "source": [
    "import umap\n",
    "reducer = umap.UMAP()\n",
    "all_protos_transformed = reducer.fit_transform(all_protos.detach().numpy())\n",
    "print(all_protos_transformed.shape)\n",
    "\n",
    "proto_df = {\n",
    "    \"X\": all_protos_transformed[:,0].tolist(),\n",
    "    \"Y\": all_protos_transformed[:,1].tolist(),\n",
    "    \"Label\": np.arange(1, 51).tolist()\n",
    "}\n",
    "sns.scatterplot(data=proto_df, x=\"Y\", y=\"X\", hue=\"Label\")"
   ]
  },
  {
   "cell_type": "code",
   "execution_count": null,
   "metadata": {},
   "outputs": [],
   "source": []
  }
 ],
 "metadata": {
  "kernelspec": {
   "display_name": "Python 3.9.0 ('prototex': conda)",
   "language": "python",
   "name": "python3"
  },
  "language_info": {
   "codemirror_mode": {
    "name": "ipython",
    "version": 3
   },
   "file_extension": ".py",
   "mimetype": "text/x-python",
   "name": "python",
   "nbconvert_exporter": "python",
   "pygments_lexer": "ipython3",
   "version": "3.9.16"
  },
  "orig_nbformat": 4,
  "vscode": {
   "interpreter": {
    "hash": "67a2a78c27fe286f44f928febc9f5314f2b48ea11236d1a7eff6379cd9712b1f"
   }
  }
 },
 "nbformat": 4,
 "nbformat_minor": 2
}
